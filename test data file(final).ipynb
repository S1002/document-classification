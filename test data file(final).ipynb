{
 "cells": [
  {
   "cell_type": "code",
   "execution_count": 1,
   "id": "e5982cc1",
   "metadata": {},
   "outputs": [],
   "source": [
    "import pandas as pd\n",
    "import os\n",
    "import shutil\n",
    "import docx2txt\n",
    "import re\n",
    "import joblib\n",
    "import glob\n",
    "import os\n",
    "import sys\n",
    "import pandas as pd\n",
    "import fitz\n",
    "import pypandoc\n",
    "from pptx import Presentation\n",
    "import glob\n",
    "import docx2txt\n",
    "import fitz\n",
    "import re\n",
    "import win32com.client as win32\n",
    "from win32com.client import constants"
   ]
  },
  {
   "cell_type": "code",
   "execution_count": null,
   "id": "d4795cf5",
   "metadata": {},
   "outputs": [],
   "source": [
    "def msg_attachments(path,des)\n",
    "a=1\n",
    "files = [f for f in os.listdir(path)]\n",
    "for file in files:\n",
    "    if file.endswith(\".msg\"):\n",
    "        outlook = win32com.client.Dispatch(\"Outlook.Application\").GetNamespace(\"MAPI\")\n",
    "        msg = outlook.OpenSharedItem(os.path.join(p, file))        \n",
    "        att=msg.Attachments\n",
    "        print(a)\n",
    "        a=a+1\n",
    "        for i in att:\n",
    "            i.SaveAsFile(os.path.join(des, i.FileName))#Saves the file with the attachment name"
   ]
  },
  {
   "cell_type": "code",
   "execution_count": null,
   "id": "a3cf8a4d",
   "metadata": {},
   "outputs": [],
   "source": [
    "# Create list of paths to .doc files\n",
    "paths = glob(r'C:\\ML Training Docs\\New folder\\data\\adv\\3rdparties\\.msg\\msg_to_txt\\rtf\\*.rtf', recursive=True)\n",
    "\n",
    "def save_as_docx(path):\n",
    "    # Opening MS Word\n",
    "    word = win32.gencache.EnsureDispatch('Word.Application')\n",
    "    doc = word.Documents.Open(path)\n",
    "    doc.Activate ()\n",
    "\n",
    "    # Rename path with .docx\n",
    "    new_file_abs = os.path.abspath(path)\n",
    "    new_file_abs = re.sub(r'\\.\\w+$', '.docx', new_file_abs)\n",
    "\n",
    "    # Save and Close\n",
    "    word.ActiveDocument.SaveAs(\n",
    "        new_file_abs, FileFormat=constants.wdFormatXMLDocument\n",
    "    )\n",
    "    doc.Close(False)\n",
    "\n",
    "for path in paths:\n",
    "    save_as_docx(path)"
   ]
  },
  {
   "cell_type": "code",
   "execution_count": 3,
   "id": "a03e74eb",
   "metadata": {},
   "outputs": [],
   "source": [
    "\n",
    "def data_cleansing(content):\n",
    "    # content =   docx_to_txt(filepath)\n",
    "    # # documents = []\n",
    "\n",
    "    from nltk.stem import WordNetLemmatizer\n",
    "    from nltk.corpus import stopwords\n",
    "    stop_words=set(stopwords.words('english'))\n",
    "\n",
    "    stemmer = WordNetLemmatizer()\n",
    "    \n",
    "\n",
    "    # for sen in range(0, len(content)):\n",
    "\n",
    "    #Remove \\n from text\n",
    "\n",
    "    document = re.sub(r'\\\\n', ' ', str(content))\n",
    "    # print(content)\n",
    "    # print(document)\n",
    "\n",
    "    # remove \\t from text\n",
    "    document = re.sub(r'\\\\t', ' ', document)\n",
    "\n",
    "    # Remove \\\\ from the text\n",
    "    document = re.sub(r'\\\\', ' ', document)\n",
    "\n",
    "    # Removing prefixed 'b'\n",
    "    document = re.sub(r'^b\\s+', '', document)\n",
    "\n",
    "\n",
    "    #Remove special character\n",
    "    document = re.sub(r\"[^a-zA-Z0-9]+\", ' ', document)\n",
    "\n",
    "    # print(document)\n",
    "\n",
    "\n",
    "    # Remove one char joins with 2 digit number\n",
    "    document= re.sub(r'[A-Za-z]{1}[0-9]{2}', ' ', document)\n",
    "    #Remove 1 digit number joins with 2 char\n",
    "    document = re.sub(r'[0-9]{1}[A-Za-z]{2}',' ',document)\n",
    "    #Remove one char in between two numbers\n",
    "    document = re.sub(r'[0-9]{1}[A-Za-z]{1}[0-9]{1}',' ',document)\n",
    "    #Remove one number in between two char\n",
    "    document = re.sub(r'[A-Za-z]{1}[0-9]{1}[A-Za-z]{1}',' ',document)\n",
    "\n",
    "    # Remove two char joins with 2 digit number\n",
    "    document= re.sub(r'[A-Za-z]{2}[0-9]{2}', ' ', document)\n",
    "\n",
    "    # Remove two char joins with 1 digit number\n",
    "    document= re.sub(r'[A-Za-z]{2}[0-9]{1}', ' ', document)\n",
    "    # print(document)\n",
    "\n",
    "\n",
    "    # Remove double digit number\n",
    "    document=re.sub('(\\\\b[0-9][0-9] \\\\b|\\\\b [0-9][0-9]\\\\b)', ' ', document).strip()\n",
    "    #Remove single character\n",
    "    document=re.sub('(\\\\b[A-Za-z] \\\\b|\\\\b [A-Za-z]\\\\b)', ' ', document).strip()\n",
    "    # Remove single digit number\n",
    "    document=re.sub('(\\\\b[0-9] \\\\b|\\\\b [0-9]\\\\b)', ' ', document).strip()\n",
    "    # print(document)\n",
    "\n",
    "    # Substituting multiple spaces with single space\n",
    "    document = re.sub(r' +', ' ', document)\n",
    "\n",
    "    # Converting to Lowercase\n",
    "    document = document.lower()\n",
    "\n",
    "    # Lemmatization\n",
    "    document = document.split()\n",
    "\n",
    "    document = [stemmer.lemmatize(word) for word in document]\n",
    "    document = ' '.join(document)\n",
    "\n",
    "    #     document = ' '.join(e for e in document if e.isalnum())\n",
    "    document = ' '.join([word for word in document.split(' ') if word not in stop_words])\n",
    "    document = ' '.join([w for w in document.split() if len(w)>1])\n",
    "    return document\n",
    "    \n",
    "#     documents.append(document)"
   ]
  },
  {
   "cell_type": "code",
   "execution_count": 4,
   "id": "b905e633",
   "metadata": {},
   "outputs": [],
   "source": [
    "def docx_to_txt(path):\n",
    "    text = docx2txt.process(path)\n",
    "    return text\n",
    "\n",
    "def pdf_txt(path):\n",
    "    page=\"\"\n",
    "    doc = fitz.open(path)\n",
    "    n=doc.pageCount\n",
    "#     print (\"number of pages: %i\")\n",
    "    #print(doc.metadata)\n",
    "\n",
    "    for i in range(n):\n",
    "\n",
    "        page1 = doc.loadPage(i)\n",
    "        page1text = page1.getText()\n",
    "        page+=page1text\n",
    "    return page\n",
    "\n",
    "def pptx_txt(path):\n",
    "    page=\"\"\n",
    "    for eachfile in glob.glob(path):\n",
    "        \n",
    "        prs = Presentation(eachfile)\n",
    "#         print(eachfile)\n",
    "#         print(\"----------------------\")\n",
    "        for slide in prs.slides:\n",
    "            for shape in slide.shapes:\n",
    "                if hasattr(shape, \"text\"):\n",
    "#                     print(shape.text)\n",
    "                    page+=shape.text\n",
    "    return page\n",
    "#                     print(shape.text)\n",
    "def xls_txt(path):\n",
    "    page=''\n",
    "    for filename in glob.glob(path):\n",
    "        df=pd.read_excel(filename)\n",
    "        a=df.to_string()\n",
    "        page+=a\n",
    "    return page\n",
    "\n",
    "def xlsx_txt(path):\n",
    "    page=''\n",
    "    for filename in glob.glob(path):\n",
    "        df=pd.read_excel(filename)\n",
    "        a=df.to_string()\n",
    "        page+=a\n",
    "    return page\n",
    "\n",
    "    \n",
    "    "
   ]
  },
  {
   "cell_type": "code",
   "execution_count": null,
   "id": "807692df",
   "metadata": {},
   "outputs": [],
   "source": [
    "# Open a file\n",
    "path = r'C:/ML Training Docs/dataset/pdf1/'\n",
    "dirs = os.listdir( path )\n",
    "\n",
    "# This would print all the files and directories\n",
    "for file in dirs:\n",
    "   print(file)\n",
    "os.chdir(path)"
   ]
  },
  {
   "cell_type": "code",
   "execution_count": 5,
   "id": "f0e59c14",
   "metadata": {},
   "outputs": [
    {
     "name": "stdout",
     "output_type": "stream",
     "text": [
      "180014.pdf\n"
     ]
    }
   ],
   "source": [
    "for file in os.listdir(path):\n",
    "    print(file)\n",
    "    \n",
    "\n",
    "    if file.endswith(\".pdf\"):\n",
    "        pdf1=pdf_txt(path+file)\n",
    "    \n",
    "    if file.endswith(\".docx\"):\n",
    "        dox=docx_to_txt(path+file)\n",
    "    \n",
    "     if file.endswith(\".xls\"):\n",
    "        xls=xls_txt(path+file)\n",
    "        \n",
    "    if file.endswith(\".xlsx\"):\n",
    "        xlsx=xlsx_txt(path+file)\n",
    "          "
   ]
  },
  {
   "cell_type": "code",
   "execution_count": 6,
   "id": "4ce919df",
   "metadata": {},
   "outputs": [],
   "source": [
    "content = data_cleansing(pdf1)"
   ]
  },
  {
   "cell_type": "code",
   "execution_count": 7,
   "id": "6f83fe9e",
   "metadata": {},
   "outputs": [
    {
     "data": {
      "text/plain": [
       "'dear dr dunn review condition continued inclusion medical performer list write notify intention nh commissioning board also known nh england review condition imposed continued inclusion medical performer list pursuant regulation nh performer list england regulation 2013 plr nh commissioning board statutory successor nh kent medway west kent primary care trust within letter refer three entity nh england procedure regulation plr provides conducting review condition nh england must give following notice allegation notice action nh england considering ground opportunity make written representation put case oral hearing nh england enclose bundle supporting document sent email richard dunn nh net private confidential dr richard dunn straightsmouth west kingsdown kent medical directorate wharf house medway wharf road tonbridge kent email address carlo caruso nh net telephone number 01138 248 562 december 2014 background performer list proceeding july 2012 nh england panel considered allegation oral hearing determined continued inclusion performer list wa prejudicial efficiency service included list perform appendix panel determined impose condition continued inclusion medical performer list pursuant regulation nh performer list regulation 2004 condition required participate remediation programme sought address inadequate interaction patient april 2013 nh performer list regulation 2004 revoked plr came effect pursuant paragraph schedule plr continued included medical performer list subject condition imposed july 2012 condition imposed term duration nh england condition found page appendix remain force date remediation programme undergone two year remediation programme working educational clinical supervisor national clinical assessment service ncas nh england pursuant action plan finalised april 2012 action plan appendix amendment made action plan remediation programme date copy action plan dated september 2013 attached appendix remediation programme undertaken supervised placement following gp practice may 2012 september 2013 west malling milverton 116 high street west malling kent king hill queen street king hill west malling kent site malling health group practice september 2013 november 2013 churchill clinic churchill avenue chatham kent november 2013 april 2014 blue suite 103 107 high street rainham gillingham kent parkwood long catlis road parkwood rainham nelson road 105 nelson road gillingham site malling health group practice currently working white horse surgery walk centre vale road northfleet kent commenced role june 2014 supervision dr gareth parry march 2014 progress wa reviewed remediation group remediation group wa comprised educational clinical supervisor representative deanery representative ncas led dr sarah montgomery gp clinical adviser remediation programme director group ha involved implementing monitoring remediation programme review meeting remediation group considered particular feedback supervisor gmc report remediation group wa aware complaint received course remediation programme discussed time arisen part learning development remediation group review set witness statement obtained nh england report dated april 2014 appendix remediation group recommended remediation programme come end stating group wa satisfied made good progress plan addressing concern led referral ncas gmc remediation group commented high level engagement commitment remediation programme remediation group also noted following two area development cited gmc performance assessment team see paragraph personal development plan pdp created 2013 appraisal process contained specific reference action recommended gmc agreement continue work educational supervisor deanery confirmation continued support remediation group concluded stating pldp might wish consider following alongside recommendation outcome continuing investigation complaint practitioner ncas analysis second msf due completed april practitioner stated intention reduce number weekly gp session undertakes current contract finished end april 2014 requiring dr dunn continue engage supervision reflection detailed pdp ncas assessment march may 2013 ncas conducted behavioural assessment finding set ncas report dated september 2013 appendix ncas concluded needed make improvement following core behavioural area practice emotional intelligence self monitoring self regulating behaviour communication style reflective skill dealing conflict ncas made following recommendation dr dunn continue working educational clinical supervision part agreed placement referring body confident concern dr dunn behaviour addressed complaint made period remediation complaint made nh england ha obtained nine witness statement patient colleague appendix summary complaint relate poor eye contact inappropriate body language inappropriate time offensive use humour doctor centred approach consultation including talking patient dismissive general rudeness judgmental attitude inappropriate technical explanation gmc proceeding october 2010 nh england referred misconduct poor clinical practice allegation gmc november december 2013 underwent gmc performance assessment designed ass professional knowledge skill attitude outcome documented gmc assessor report january 2014 gmc report appendix gmc report set assessment team conclusion overall performance impaired two area development highlighted follows patient assessment wa seen number occasion adversely affected overuse closed question early consultation assessor recommend dr dunn need develop history taking skill particular regard use open questioning technique would enhance ability accurately ass patient area relationship patient assessor noted two area needing development use technical complicated language explanation use inappropriate comment patient assessment team recommended area development addressed resolved nh appraisal process use pdp far nh england aware gmc ha yet make substantive decision regarding misconduct allegation made considered part performance assessment determinative review condition condition dated july 2012 state follows determinative review doctor progress condition must carried trust later month issue condition july 2014 pldp case management role carried determinative review progress remediation programme appendix reviewed evidence available decided formal action nh england consider taking pursuant plr review take place within expected month period remediation programme extended allow sufficient time remediation pldp noted following historic concern regarding practice witness statement documenting complainant made since remediation process commenced pldp took detailed account response complaint set submission solicitor dated july 2014 appendix noting two complaint recent nature pldp considered wa contradiction apparently successful remediation existence complaint communication style indicative exactly type communication issue highlighted previous report however none recent complaint considered sufficiently serious render removal performer list appropriate current time particularly given context reported progress remediation programme reaching view pldp felt likely problem communication would arise future wa therefore inappropriate remove condition entirely report remediation group dated april 2014 concluded made good progress adopted advice gmc assessor regarding appraisal process pdp remediation group recommended remediation programme closed planned completion date may 2014 whilst time drawing attention pldp continuing investigation complaint made possibility requiring continue engage supervision reflection detailed pdp gmc report confirmed conclusion gmc performance assessment team wa fit practise subject two area concern development follows development history taking skill use technical complicated language explanation use inappropriate language patient advice gmc assessment team mentioned area development addressed resolved though nh appraisal process specific action pdp pldp recommended condition varied state follows within normal working hour dr dunn must work practice least one gp dr dunn must within seven day receipt disclose complaint made whether formal informal kent medway area team nh england dr dunn must disclose condition employer contractor currently provides primary medical service future employer contractor application condition designed ensure patient access another doctor event complaint condition designed ensure nh england ha access date information view high level engagement reported remediation group pldp consider proportionate recommend imposition condition relating issue gmc assessor recommended dealt appraisal process pdp order change status quo example vary condition nh england must carry formal review condition pursuant regulation plr allegation action considered nh england summary allegation follows july 2012 finding continued inclusion list would prejudicial efficiency service included list perform condition imposed continued inclusion list 2012 2014 participated remediation programme designed address concern led inefficiency finding referred complaint continued made patient colleague summary complaint relate poor eye contact inappropriate body language inappropriate time offensive use humour doctor centred approach consultation including talking patient dismissive general rudeness judgmental attitude inappropriate technical explanation remediation group reviewed progress remediation plan concluded made good progress pursuant remediation programme gmc performance assessment team concluded overall performance impaired highlighted two area development patient assessment relationship patient stem deficiency communication skill plpd considered action nh england take relation position performer list took account reported progress ongoing concern pldp concluded high level involvement current remediation plan wa longer required prudent condition retained purpose preventing prejudice efficiency service condition designed give opportunity work independently deliver sustained improvement remaining identified area concern whilst time providing assurance nh england satisfactory mechanism place reporting future complaint light nh england considers purpose preventing prejudice efficiency service included medical performer list perform would appropriate vary condition pursuant regulation plr recommended pldp see paragraph next step day date letter advise whether wish make representation respect decision either writing person attending panel hearing wish take opportunity write separately detail process wish make representation decision take effect day date letter write confirm right request review decision per regulation may wish consider contacting defence organisation local medical committee advice decision leaving nh england december 2014 question please hesitate contact colleague linden rakestrow email via linden rakestrow nh net telephone 01138 248 564 sincerely carlo caruso senior project officer nh england'"
      ]
     },
     "execution_count": 7,
     "metadata": {},
     "output_type": "execute_result"
    }
   ],
   "source": [
    "content"
   ]
  },
  {
   "cell_type": "code",
   "execution_count": 8,
   "id": "c5e3064e",
   "metadata": {},
   "outputs": [],
   "source": [
    "count_vectorizer_saved=joblib.load(open(r'C:\\ML Training Docs\\New folder\\pickle file\\count_vectorizer_cv.sav','rb'))\n",
    "test_data_features=count_vectorizer_saved.transform([content])"
   ]
  },
  {
   "cell_type": "code",
   "execution_count": 9,
   "id": "0f0cdad6",
   "metadata": {},
   "outputs": [],
   "source": [
    "tfidf_saved=joblib.load(open(r'C:\\ML Training Docs\\New folder\\pickle file\\term_freq_inv_df.sav','rb'))\n",
    "test_data_features_tfidf=tfidf_saved.transform(test_data_features)"
   ]
  },
  {
   "cell_type": "code",
   "execution_count": 21,
   "id": "4e55e097",
   "metadata": {},
   "outputs": [],
   "source": [
    "lgbm_pickled_model=joblib.load(open(r'C:\\ML Training Docs\\New folder\\pickle file\\light_gbm.sav','rb'))\n",
    "x = lgbm_pickled_model.predict(test_data_features_tfidf)\n",
    "se = pd.Series(x)\n",
    "category = {0:'3rd parties',1:'GMC',2:'MDU_Contacts',3:'MDU_invoices',4:'NHSLA'}"
   ]
  },
  {
   "cell_type": "code",
   "execution_count": 26,
   "id": "d3b435a3",
   "metadata": {},
   "outputs": [
    {
     "data": {
      "text/plain": [
       "['GMC']"
      ]
     },
     "execution_count": 26,
     "metadata": {},
     "output_type": "execute_result"
    }
   ],
   "source": [
    "list(se.apply(lambda x: category[x]))"
   ]
  },
  {
   "cell_type": "code",
   "execution_count": 37,
   "id": "ca9dc4d2",
   "metadata": {},
   "outputs": [
    {
     "data": {
      "text/plain": [
       "array([[0.04413515, 0.49573436, 0.03836437, 0.00088113, 0.42088499]])"
      ]
     },
     "execution_count": 37,
     "metadata": {},
     "output_type": "execute_result"
    }
   ],
   "source": [
    "lgbm_pickled_model.predict_proba(test_data_features_tfidf)"
   ]
  },
  {
   "cell_type": "code",
   "execution_count": 36,
   "id": "423d495a",
   "metadata": {},
   "outputs": [
    {
     "data": {
      "text/plain": [
       "array([1], dtype=int64)"
      ]
     },
     "execution_count": 36,
     "metadata": {},
     "output_type": "execute_result"
    }
   ],
   "source": [
    "lgbm_pickled_model.predict_proba(test_data_features_tfidf).argmax(axis=1)"
   ]
  },
  {
   "cell_type": "code",
   "execution_count": 25,
   "id": "8eb0019a",
   "metadata": {},
   "outputs": [],
   "source": [
    "def docx_to_txt(path):\n",
    "#     f=os.listdir(path)\n",
    "#     n=os.listdir(path)\n",
    "#     name=[i[:-5] for i in n if i.endswith('.docx')]\n",
    "#     file=[i for i in f if i.endswith('docx')]\n",
    "#     for i,j in zip(file,name):\n",
    "        # Passing docx file to process function\n",
    "    text = docx2txt.process(path)\n",
    "    return text\n",
    "#     content =text\n",
    "#     print(text)\n",
    "#         with open(des+\"%s.txt\"+%j, \"w\",encoding=\"utf-8\") as text_file:\n",
    "#             print(text, file=text_file)"
   ]
  },
  {
   "cell_type": "code",
   "execution_count": null,
   "id": "8b71748a",
   "metadata": {},
   "outputs": [],
   "source": []
  },
  {
   "cell_type": "code",
   "execution_count": null,
   "id": "6d2a8843",
   "metadata": {},
   "outputs": [],
   "source": [
    "def xls2txt(filepath)\n",
    "try:\n",
    "    for filename in glob.glob(filepath):\n",
    "        df=pd.read_excel(filename)\n",
    "        df.to_string(dest+(filename.split('.')[-2]).split('\\\\')[-1]+'.txt')\n",
    "except:\n",
    "    print('password_protected or non_readable')\n"
   ]
  },
  {
   "cell_type": "code",
   "execution_count": 3,
   "id": "b73108b7",
   "metadata": {},
   "outputs": [],
   "source": [
    "\n",
    "def data_cleansing(content):\n",
    "    # content =   docx_to_txt(filepath)\n",
    "    # # documents = []\n",
    "\n",
    "    from nltk.stem import WordNetLemmatizer\n",
    "    from nltk.corpus import stopwords\n",
    "    stop_words=set(stopwords.words('english'))\n",
    "\n",
    "    stemmer = WordNetLemmatizer()\n",
    "    \n",
    "\n",
    "    # for sen in range(0, len(content)):\n",
    "\n",
    "    #Remove \\n from text\n",
    "\n",
    "    document = re.sub(r'\\\\n', ' ', str(content))\n",
    "    # print(content)\n",
    "    # print(document)\n",
    "\n",
    "    # remove \\t from text\n",
    "    document = re.sub(r'\\\\t', ' ', document)\n",
    "\n",
    "    # Remove \\\\ from the text\n",
    "    document = re.sub(r'\\\\', ' ', document)\n",
    "\n",
    "    # Removing prefixed 'b'\n",
    "    document = re.sub(r'^b\\s+', '', document)\n",
    "\n",
    "\n",
    "    #Remove special character\n",
    "    document = re.sub(r\"[^a-zA-Z0-9]+\", ' ', document)\n",
    "\n",
    "    # print(document)\n",
    "\n",
    "\n",
    "    # Remove one char joins with 2 digit number\n",
    "    document= re.sub(r'[A-Za-z]{1}[0-9]{2}', ' ', document)\n",
    "    #Remove 1 digit number joins with 2 char\n",
    "    document = re.sub(r'[0-9]{1}[A-Za-z]{2}',' ',document)\n",
    "    #Remove one char in between two numbers\n",
    "    document = re.sub(r'[0-9]{1}[A-Za-z]{1}[0-9]{1}',' ',document)\n",
    "    #Remove one number in between two char\n",
    "    document = re.sub(r'[A-Za-z]{1}[0-9]{1}[A-Za-z]{1}',' ',document)\n",
    "\n",
    "    # Remove two char joins with 2 digit number\n",
    "    document= re.sub(r'[A-Za-z]{2}[0-9]{2}', ' ', document)\n",
    "\n",
    "    # Remove two char joins with 1 digit number\n",
    "    document= re.sub(r'[A-Za-z]{2}[0-9]{1}', ' ', document)\n",
    "    # print(document)\n",
    "\n",
    "\n",
    "    # Remove double digit number\n",
    "    document=re.sub('(\\\\b[0-9][0-9] \\\\b|\\\\b [0-9][0-9]\\\\b)', ' ', document).strip()\n",
    "    #Remove single character\n",
    "    document=re.sub('(\\\\b[A-Za-z] \\\\b|\\\\b [A-Za-z]\\\\b)', ' ', document).strip()\n",
    "    # Remove single digit number\n",
    "    document=re.sub('(\\\\b[0-9] \\\\b|\\\\b [0-9]\\\\b)', ' ', document).strip()\n",
    "    # print(document)\n",
    "\n",
    "    # Substituting multiple spaces with single space\n",
    "    document = re.sub(r' +', ' ', document)\n",
    "\n",
    "    # Converting to Lowercase\n",
    "    document = document.lower()\n",
    "\n",
    "    # Lemmatization\n",
    "    document = document.split()\n",
    "\n",
    "    document = [stemmer.lemmatize(word) for word in document]\n",
    "    document = ' '.join(document)\n",
    "\n",
    "    #     document = ' '.join(e for e in document if e.isalnum())\n",
    "    document = ' '.join([word for word in document.split(' ') if word not in stop_words])\n",
    "    document = ' '.join([w for w in document.split() if len(w)>1])\n",
    "    return document\n",
    "    \n",
    "#     documents.append(document)"
   ]
  },
  {
   "cell_type": "code",
   "execution_count": 6,
   "id": "f96705f8",
   "metadata": {},
   "outputs": [],
   "source": [
    "\n",
    "filepath = r'C:\\ML Training Docs\\dataset\\1630070.docx'\n",
    "content = ''"
   ]
  },
  {
   "cell_type": "code",
   "execution_count": 7,
   "id": "70418b5e",
   "metadata": {},
   "outputs": [
    {
     "name": "stdout",
     "output_type": "stream",
     "text": [
      "hi\n",
      "imperial health work floor hammersmith house hammersmith hospital du cane road london 0203313 3063 020 3313 3395 ann mcavinchey imperial nh uk imperial health work floor hammersmith house hammersmith hospital du cane road london 0203313 3063 020 3313 3395 ann mcavinchey imperial nh uk clinical director professor john harrison md frcp frcp edin ffom strictly private confidential date 2012 clinic date 2012 debbie smith hr business partner nh direct ref dict 92148 dear smith nicholas robinson dob thank referral dr robinson telephone conversation dr robinson today february 2012 telephone assessment wa regarding prolonged sickness absence well reasonable adjustment could put place return work agreement referral dr robinson confirmed ha absent work since middle november 2011 informed absence associated symptom related depression anxiety well work related stress dr robinson explained meanwhile ha obtained appropriate help continues regular review appointment see gp psychiatrist well counselling session unfortunately informed persists experience symptom related medical condition poor sleep irritability low mood difficulty concentrate furthermore mentioned referral letter dr robinson suffers long term medical condition type insulin dependent diabetes diverticulitis hypercholesterolemia hypertension take medication chronic medical condition dr robinson told work three day week nh direct senior management position role involves project work dr robinson pointed ha working nh direct since 1999 however indicated last year working condition changed caused significant level stress possibly exacerbation depression well anxiety meantime received report psychiatrist psychiatrist confirmed dr robinson diagnosis depression reference question raised referral letter moment dr robinson fit return work afraid cannot tell long likely dr robinson treatment effective would able return work therefore currently capable predict dr robinson able return work present remains symptomatic furthermore decision regarding redeployment currently possible dr robinson unable make decision present dr robinson suffers chronic medical condition likely condition covered equality act 2010 reasonable adjustment covered act however reasonable adjustment depend overall practicability managerial decision point time would suggest dr robinson declared fit return work psychiatrist gp would advise ha assessment occupational health department next assessment would able respond detail question raised referral letter advise phased return work programme introduction working environment gradual increase working hour duty period week discussed content letter dr robinson consent send report question meanwhile please hesitate contact sincerely dr gabriele schiffer occupational physician imperial health work cc nicholas robinson\n"
     ]
    }
   ],
   "source": [
    "filename, file_extension = os.path.splitext(filepath)\n",
    "# print(file_extension)\n",
    "if file_extension == '.docx':\n",
    "    print('hi')\n",
    "    content =   docx_to_txt(filepath)\n",
    "    content = data_cleansing(content)\n",
    "    print(content)"
   ]
  },
  {
   "cell_type": "code",
   "execution_count": 12,
   "id": "e8c8f7b9",
   "metadata": {},
   "outputs": [],
   "source": [
    "count_vectorizer_saved=joblib.load(open(r'C:\\ML Training Docs\\New folder\\pickle file\\count_vectorizer_cv.sav','rb'))\n",
    "test_data_features=count_vectorizer_saved.transform([content])"
   ]
  },
  {
   "cell_type": "code",
   "execution_count": 13,
   "id": "13a8041c",
   "metadata": {},
   "outputs": [],
   "source": [
    "tfidf_saved=joblib.load(open(r'C:\\ML Training Docs\\New folder\\pickle file\\term_freq_inv_df.sav','rb'))\n",
    "test_data_features_tfidf=tfidf_saved.transform(test_data_features)"
   ]
  },
  {
   "cell_type": "code",
   "execution_count": 14,
   "id": "1f6340fd",
   "metadata": {},
   "outputs": [
    {
     "data": {
      "text/plain": [
       "array([4])"
      ]
     },
     "execution_count": 14,
     "metadata": {},
     "output_type": "execute_result"
    }
   ],
   "source": [
    "lgbm_pickled_model=joblib.load(open(r'C:\\ML Training Docs\\New folder\\pickle file\\light_gbm.sav','rb'))\n",
    "lgbm_pickled_model.predict(test_data_features_tfidf)"
   ]
  },
  {
   "cell_type": "code",
   "execution_count": null,
   "id": "bc8f4d8e",
   "metadata": {},
   "outputs": [],
   "source": [
    "import fitz\n",
    "def pdf_txt(path):\n",
    "    page=\"\"\n",
    "    doc = fitz.open(path)\n",
    "    n=doc.pageCount\n",
    "#     print (\"number of pages: %i\")\n",
    "    #print(doc.metadata)\n",
    "\n",
    "    for i in range(n):\n",
    "\n",
    "        page1 = doc.loadPage(i)\n",
    "        page1text = page1.getText()\n",
    "        page+=page1text\n",
    "    return page"
   ]
  },
  {
   "cell_type": "code",
   "execution_count": null,
   "id": "347b314c",
   "metadata": {},
   "outputs": [],
   "source": [
    "from pptx import Presentation\n",
    "import glob\n",
    "def pptx_txt(path):\n",
    "    page=\"\"\n",
    "    for eachfile in glob.glob(path):\n",
    "        \n",
    "        prs = Presentation(eachfile)\n",
    "#         print(eachfile)\n",
    "#         print(\"----------------------\")\n",
    "        for slide in prs.slides:\n",
    "            for shape in slide.shapes:\n",
    "                if hasattr(shape, \"text\"):\n",
    "#                     print(shape.text)\n",
    "                    page+=shape.text\n",
    "    return page\n",
    "#                     print(shape.text)"
   ]
  }
 ],
 "metadata": {
  "kernelspec": {
   "display_name": "Python 3",
   "language": "python",
   "name": "python3"
  },
  "language_info": {
   "codemirror_mode": {
    "name": "ipython",
    "version": 3
   },
   "file_extension": ".py",
   "mimetype": "text/x-python",
   "name": "python",
   "nbconvert_exporter": "python",
   "pygments_lexer": "ipython3",
   "version": "3.8.8"
  }
 },
 "nbformat": 4,
 "nbformat_minor": 5
}

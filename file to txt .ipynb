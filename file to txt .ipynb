{
 "cells": [
  {
   "cell_type": "code",
   "execution_count": 11,
   "id": "0acc7bab",
   "metadata": {},
   "outputs": [],
   "source": [
    "#pdf to text\n",
    "def pdf_txt(fullfile):\n",
    "    with open(fullfile, 'rb') as f:\n",
    "        try:\n",
    "            pdf = PdfFileReader(f)\n",
    "            info = pdf.getDocumentInfo()\n",
    "            if info:\n",
    "                pdf_document =fullfile\n",
    "                name=fullfile.split('\\\\')[-1]\n",
    "                doc = fitz.open(pdf_document)\n",
    "                n=doc.pageCount\n",
    "                for i in range(n):\n",
    "                    page1 = doc.loadPage(i)\n",
    "                    page1text = page1.getText()\n",
    "                    #print(page1text)\n",
    "                    file1=open(r'C:\\Users\\zz2840\\Documents\\ML\\work\\api\\%s.txt'%(os.path.splitext(name)[0].lower()),'a',encoding='utf-8')\n",
    "                    file1.writelines(page1text)\n",
    "                    file1.close()\n",
    "                print('done')\n",
    "            else:\n",
    "                print('unreadable')\n",
    "        except:\n",
    "            print('unreadable')"
   ]
  },
  {
   "cell_type": "code",
   "execution_count": 12,
   "id": "db450b7d",
   "metadata": {},
   "outputs": [],
   "source": [
    "#docx to txt\n",
    "def docx_txt(path,Pathname):\n",
    "    print(Pathname)\n",
    "    content = textract.process(path)\n",
    "    head, tail = os.path.split(path)\n",
    "    file, extension = os.path.splitext(path)\n",
    "    write_text_file = open(os.path.join(Pathname,tail[:-5]+'.txt'), \"wb\")\n",
    "    write_text_file.write(content)\n",
    "    write_text_file.close()"
   ]
  },
  {
   "cell_type": "code",
   "execution_count": 13,
   "id": "343b3a62",
   "metadata": {},
   "outputs": [],
   "source": [
    "#doc to txt\n",
    "def doc_txt(path,Pathname):\n",
    "    head, tail = os.path.split(path)\n",
    "    word = win32.gencache.EnsureDispatch('Word.Application')\n",
    "    doc = word.Documents.Open(path)\n",
    "    doc.Activate ()\n",
    "    new_file_abs = os.path.join(Pathname,tail[:-4]+'.docx')\n",
    "    word.ActiveDocument.SaveAs(\n",
    "        new_file_abs, FileFormat=constants.wdFormatXMLDocument\n",
    "    )\n",
    "    docx_txt(new_file_abs,Pathname)\n",
    "    doc.Close(False)"
   ]
  },
  {
   "cell_type": "code",
   "execution_count": 14,
   "id": "86598b68",
   "metadata": {
    "scrolled": true
   },
   "outputs": [],
   "source": [
    "#conver msg to txt\n",
    "def txt_conv(file):\n",
    "    if file.endswith(\".msg\"):\n",
    "        print(file)\n",
    "        try:\n",
    "            outlook = win32com.client.Dispatch(\"Outlook.Application\").GetNamespace(\"MAPI\")\n",
    "            msg = outlook.OpenSharedItem(file)\n",
    "            att=msg.Attachments\n",
    "            for i in att:\n",
    "                i.SaveAsFile(os.path.join(Pathname, i.FileName))\n",
    "        except:\n",
    "            print('file dont have attachments')\n",
    "            pass\n",
    "        if not os.listdir(Pathname):\n",
    "            print (\"'file dont have attachments'\")\n",
    "        else:\n",
    "            dir_list = os.listdir(Pathname)\n",
    "            for fp in dir_list:\n",
    "                ms_fil=(os.path.join(Pathname, fp))\n",
    "                print(ms_fil)\n",
    "                if ms_fil.endswith(\".pdf\"):\n",
    "                    pdf_txt(ms_fil)\n",
    "                elif ms_fil.endswith(\".docx\"):\n",
    "                    docx_txt(ms_fil)\n",
    "                elif ms_fil.endswith(\".doc\"):\n",
    "                    doc_txt(ms_fil)\n",
    "                else:\n",
    "                    print('non convertable formats')\n",
    "    elif file.endswith(\".pdf\"):\n",
    "        pdf_txt(file)\n",
    "    elif file.endswith(\".docx\"):\n",
    "        docx_txt(file)\n",
    "    elif file.endswith(\".doc\"):\n",
    "        doc_txt(file)\n",
    "    else:\n",
    "        print('non convertable formats')"
   ]
  },
  {
   "cell_type": "code",
   "execution_count": null,
   "id": "bb31203d",
   "metadata": {},
   "outputs": [],
   "source": [
    "#preprocessing\n",
    "def normal(paths):\n",
    "    ps = LancasterStemmer()\n",
    "    dict={}\n",
    "    count=0\n",
    "    tokenizer = RegexpTokenizer(\"[\\w']+\")\n",
    "    stop_words = set (stopwords.words(\"english\"))\n",
    "    bad_chars = [\"\\\"\", \"\\\\\", \"~\", \"=\", \")\", \"'\", \">\", \":\", \"(\", \"?\", \"{\", \";\", \"#\", \"}\", \"`\",\" %\", \"&\", \"!\", \"]\",\"%\",\"[\", \"<\", \"-\", \"|\", \"/\", \"_\", \"*\", \",\", \"^\", \"$\", \"+\"]\n",
    "    i=0\n",
    "    import os\n",
    "    try:\n",
    "        txt = open(paths,\"r\",encoding='utf-8')\n",
    "        txt = txt.read().replace('\\n', ' ')\n",
    "    except:\n",
    "        txt = open(paths)\n",
    "        txt = txt.read().replace('\\n', ' ')\n",
    "    data = str(''.join(i for i in txt if not i in bad_chars))\n",
    "    tndf=tokenizer.tokenize(data)\n",
    "    filtered_sentence=[]\n",
    "    for w in tndf:\n",
    "        w= w.lower()\n",
    "        w= w.strip()\n",
    "        if w not in stop_words:\n",
    "            filtered_sentence.append(w)\n",
    "    train_text= (filtered_sentence)\n",
    "    stem=[]\n",
    "    for w in train_text:\n",
    "        stem.append(ps.stem(w))\n",
    "    s = (stem)\n",
    "    listToStr = ' '.join([str(elem) for elem in stem])\n",
    "    textfile = open(paths, \"w\", errors=\"ignore\")\n",
    "    textfile.write(listToStr)\n",
    "    textfile.close()"
   ]
  },
  {
   "cell_type": "code",
   "execution_count": 16,
   "id": "5fafbee1",
   "metadata": {},
   "outputs": [
    {
     "name": "stdout",
     "output_type": "stream",
     "text": [
      "done\n"
     ]
    }
   ],
   "source": [
    "Pathname= r'C:\\Users\\zz2840\\Documents\\ML\\work\\api'\n",
    "\n",
    "import fitz\n",
    "import win32com.client\n",
    "import os\n",
    "import shutil\n",
    "import textract\n",
    "import win32com.client as win32\n",
    "from PyPDF2 import PdfFileReader\n",
    "from win32com.client import constants\n",
    "from nltk.corpus import stopwords\n",
    "from nltk.corpus import state_union\n",
    "from nltk.tokenize import RegexpTokenizer\n",
    "from nltk.stem import LancasterStemmer\n",
    "shutil.rmtree(Pathname,ignore_errors=True)\n",
    "os.mkdir(Pathname)\n",
    "txt_conv(r'C:\\Users\\zz2840\\Documents\\ML\\work\\newtst\\test\\1990039.pdf')"
   ]
  },
  {
   "cell_type": "code",
   "execution_count": 27,
   "id": "14134040",
   "metadata": {},
   "outputs": [],
   "source": [
    "files = [f for f in os.listdir(r'C:\\Users\\zz2840\\Documents\\ML\\work\\api')]\n",
    "for file in files:\n",
    "    if file.endswith(\".txt\"):\n",
    "        normal(os.path.join(Pathname, file))"
   ]
  },
  {
   "cell_type": "code",
   "execution_count": null,
   "id": "25d88776",
   "metadata": {},
   "outputs": [],
   "source": []
  },
  {
   "cell_type": "code",
   "execution_count": 1,
   "id": "56558c54",
   "metadata": {},
   "outputs": [],
   "source": [
    "#pdf to text\n",
    "def pdf_txt(fullfile):\n",
    "    with open(fullfile, 'rb') as f:\n",
    "        try:\n",
    "            pdf = PdfFileReader(f)\n",
    "            info = pdf.getDocumentInfo()\n",
    "            if info:\n",
    "                pdf_document =fullfile\n",
    "                name=fullfile.split('\\\\')[-1]\n",
    "                doc = fitz.open(pdf_document)\n",
    "                n=doc.pageCount\n",
    "                for i in range(n):\n",
    "                    page1 = doc.loadPage(i)\n",
    "                    page1text = page1.getText()\n",
    "                    #print(page1text)\n",
    "                    file1=open(path+'/%s.txt'%(os.path.splitext(name)[0].lower()),'a',encoding='utf-8')\n",
    "                    file1.writelines(page1text)\n",
    "                    file1.close()\n",
    "                print('done')\n",
    "            else:\n",
    "                print('unreadable')\n",
    "        except:\n",
    "            print('unreadable')"
   ]
  },
  {
   "cell_type": "code",
   "execution_count": 2,
   "id": "995befaa",
   "metadata": {},
   "outputs": [],
   "source": [
    "path = r'E:/MDU/pdf/'\n",
    "fullfile = r'E:/MDU/pdf/'"
   ]
  },
  {
   "cell_type": "code",
   "execution_count": 3,
   "id": "fab6e66f",
   "metadata": {},
   "outputs": [
    {
     "ename": "PermissionError",
     "evalue": "[Errno 13] Permission denied: 'E:/MDU/pdf/'",
     "output_type": "error",
     "traceback": [
      "\u001b[1;31m---------------------------------------------------------------------------\u001b[0m",
      "\u001b[1;31mPermissionError\u001b[0m                           Traceback (most recent call last)",
      "\u001b[1;32m<ipython-input-3-6e5565066e7c>\u001b[0m in \u001b[0;36m<module>\u001b[1;34m\u001b[0m\n\u001b[1;32m----> 1\u001b[1;33m \u001b[0mpdf_txt\u001b[0m\u001b[1;33m(\u001b[0m\u001b[0mfullfile\u001b[0m\u001b[1;33m)\u001b[0m\u001b[1;33m\u001b[0m\u001b[1;33m\u001b[0m\u001b[0m\n\u001b[0m",
      "\u001b[1;32m<ipython-input-1-d1455a199874>\u001b[0m in \u001b[0;36mpdf_txt\u001b[1;34m(fullfile)\u001b[0m\n\u001b[0;32m      1\u001b[0m \u001b[1;31m#pdf to text\u001b[0m\u001b[1;33m\u001b[0m\u001b[1;33m\u001b[0m\u001b[1;33m\u001b[0m\u001b[0m\n\u001b[0;32m      2\u001b[0m \u001b[1;32mdef\u001b[0m \u001b[0mpdf_txt\u001b[0m\u001b[1;33m(\u001b[0m\u001b[0mfullfile\u001b[0m\u001b[1;33m)\u001b[0m\u001b[1;33m:\u001b[0m\u001b[1;33m\u001b[0m\u001b[1;33m\u001b[0m\u001b[0m\n\u001b[1;32m----> 3\u001b[1;33m     \u001b[1;32mwith\u001b[0m \u001b[0mopen\u001b[0m\u001b[1;33m(\u001b[0m\u001b[0mfullfile\u001b[0m\u001b[1;33m,\u001b[0m \u001b[1;34m'rb'\u001b[0m\u001b[1;33m)\u001b[0m \u001b[1;32mas\u001b[0m \u001b[0mf\u001b[0m\u001b[1;33m:\u001b[0m\u001b[1;33m\u001b[0m\u001b[1;33m\u001b[0m\u001b[0m\n\u001b[0m\u001b[0;32m      4\u001b[0m         \u001b[1;32mtry\u001b[0m\u001b[1;33m:\u001b[0m\u001b[1;33m\u001b[0m\u001b[1;33m\u001b[0m\u001b[0m\n\u001b[0;32m      5\u001b[0m             \u001b[0mpdf\u001b[0m \u001b[1;33m=\u001b[0m \u001b[0mPdfFileReader\u001b[0m\u001b[1;33m(\u001b[0m\u001b[0mf\u001b[0m\u001b[1;33m)\u001b[0m\u001b[1;33m\u001b[0m\u001b[1;33m\u001b[0m\u001b[0m\n",
      "\u001b[1;31mPermissionError\u001b[0m: [Errno 13] Permission denied: 'E:/MDU/pdf/'"
     ]
    }
   ],
   "source": [
    "pdf_txt(fullfile)"
   ]
  },
  {
   "cell_type": "code",
   "execution_count": null,
   "id": "702951a1",
   "metadata": {},
   "outputs": [],
   "source": []
  }
 ],
 "metadata": {
  "kernelspec": {
   "display_name": "Python 3",
   "language": "python",
   "name": "python3"
  },
  "language_info": {
   "codemirror_mode": {
    "name": "ipython",
    "version": 3
   },
   "file_extension": ".py",
   "mimetype": "text/x-python",
   "name": "python",
   "nbconvert_exporter": "python",
   "pygments_lexer": "ipython3",
   "version": "3.6.13"
  }
 },
 "nbformat": 4,
 "nbformat_minor": 5
}

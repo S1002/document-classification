{
 "cells": [
  {
   "cell_type": "code",
   "execution_count": null,
   "id": "d2c4951b",
   "metadata": {},
   "outputs": [],
   "source": [
    "## moving page number present text file\n",
    "import os\n",
    "import re\n",
    "import shutil\n",
    "\n",
    "source_folder = r'E:/MDU/test/'\n",
    "dest_folder = r'E:/MDU/target/'\n",
    "\n",
    "for filename in os.listdir(source_folder):\n",
    "    if filename[-3:] == 'txt':\n",
    "            file = open(source_folder+filename, 'r')\n",
    "            #print(text.readlines())\n",
    "            text_list = file.readlines(15)\n",
    "            file.close()\n",
    "            txt_file = [i[0] for i in text_list[:10] if i[0].isdigit()]\n",
    "            if len(txt_file) >= 5:\n",
    "                shutil.move(os.path.join(source_folder, filename), dest_folder)"
   ]
  },
  {
   "cell_type": "code",
   "execution_count": null,
   "id": "9b5eb871",
   "metadata": {},
   "outputs": [],
   "source": [
    "# moving scanned with camscanner text present file\n",
    "import os\n",
    "import re\n",
    "import shutil\n",
    "\n",
    "source_folder = r'E:/MDU/demo/'\n",
    "dest_folder = r'E:/MDU/demo/dest/'\n",
    "string_to_match = ['Scanned with camscanner']\n",
    "\n",
    "for filename in os.listdir(source_folder):\n",
    "    if filename[-3:] == 'txt':\n",
    "            file = open(source_folder+filename, 'r')\n",
    "            #print(text.readlines())\n",
    "            txt2 = file.readlines()\n",
    "            file.close()\n",
    "            for i in string_to_match:\n",
    "                if i in txt2:\n",
    "                    shutil.move(os.path.join(source_folder, filename), dest_folder)"
   ]
  },
  {
   "cell_type": "code",
   "execution_count": null,
   "id": "e380150b",
   "metadata": {},
   "outputs": [],
   "source": [
    "import os\n",
    "for dirname, _, filenames in os.walk(r'E:/MDU/test/'):\n",
    "    for filename in filenames:\n",
    "        print(os.path.join(dirname, filename))"
   ]
  },
  {
   "cell_type": "code",
   "execution_count": null,
   "id": "f8e9d476",
   "metadata": {},
   "outputs": [],
   "source": [
    "import os\n",
    "import shutil"
   ]
  },
  {
   "cell_type": "code",
   "execution_count": null,
   "id": "08af265e",
   "metadata": {},
   "outputs": [],
   "source": [
    "def move_files(string_to_match, source_folder, dest_folder, dest_folder1):\n",
    "    for filename in os.listdir(source_folder):\n",
    "        proof = 2\n",
    "        if filename[-3:] == 'txt':\n",
    "            text = open(source_folder+filename, 'r')\n",
    "            #print(text.readlines())\n",
    "            txt2 = ' '.join(text.readlines())\n",
    "            text.close()\n",
    "        for i in string_to_match:\n",
    "            if i in txt2:\n",
    "                shutil.move(os.path.join(source_folder, filename), dest_folder)\n",
    "                proof = 0\n",
    "                break\n",
    "        if proof > 0:\n",
    "            shutil.move(os.path.join(source_folder, filename), dest_folder1)"
   ]
  },
  {
   "cell_type": "code",
   "execution_count": null,
   "id": "6d4efd5f",
   "metadata": {},
   "outputs": [],
   "source": [
    "# import os\n",
    "# import shutil\n",
    "string_to_match = ['Scanned with camscanner']\n",
    "source_folder=r'E:/MDU/test/'\n",
    "dest_folder = r'E:/MDU/a/'\n",
    "dest_folder1 = r'E:/MDU/b/'\n",
    "move_files(string_to_match, source_folder, dest_folder, dest_folder1)"
   ]
  }
 ],
 "metadata": {
  "kernelspec": {
   "display_name": "Python 3",
   "language": "python",
   "name": "python3"
  },
  "language_info": {
   "codemirror_mode": {
    "name": "ipython",
    "version": 3
   },
   "file_extension": ".py",
   "mimetype": "text/x-python",
   "name": "python",
   "nbconvert_exporter": "python",
   "pygments_lexer": "ipython3",
   "version": "3.6.13"
  }
 },
 "nbformat": 4,
 "nbformat_minor": 5
}

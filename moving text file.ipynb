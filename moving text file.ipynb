{
 "cells": [
  {
   "cell_type": "code",
   "execution_count": null,
   "id": "d0637a76",
   "metadata": {},
   "outputs": [],
   "source": [
    "## moving page number present text file\n",
    "import os\n",
    "import re\n",
    "import shutil\n",
    "\n",
    "source_folder = r'E:/MDU/test/'\n",
    "dest_folder = r'E:/MDU/target/'\n",
    "\n",
    "for filename in os.listdir(source_folder):\n",
    "    if filename[-3:] == 'txt':\n",
    "            file = open(source_folder+filename, 'r')\n",
    "            #print(text.readlines())\n",
    "            text_list = file.readlines(15)\n",
    "            file.close()\n",
    "            txt_file = [i[0] for i in text_list[:10] if i[0].isdigit()]\n",
    "            if len(txt_file) >= 5:\n",
    "                shutil.move(os.path.join(source_folder, filename), dest_folder)"
   ]
  },
  {
   "cell_type": "code",
   "execution_count": null,
   "id": "7db8e8d7",
   "metadata": {},
   "outputs": [],
   "source": [
    "# moving scanned with camscanner text present file\n",
    "import os\n",
    "import re\n",
    "import shutil\n",
    "\n",
    "source_folder = r'E:/MDU/demo/'\n",
    "dest_folder = r'E:/MDU/demo/dest/'\n",
    "string_to_match = ['Scanned with camscanner']\n",
    "\n",
    "for filename in os.listdir(source_folder):\n",
    "    if filename[-3:] == 'txt':\n",
    "            file = open(source_folder+filename, 'r')\n",
    "            #print(text.readlines())\n",
    "            txt2 = file.readlines()\n",
    "            file.close()\n",
    "            for i in string_to_match:\n",
    "                if i in txt2:\n",
    "                    shutil.move(os.path.join(source_folder, filename), dest_folder)"
   ]
  }
 ],
 "metadata": {
  "kernelspec": {
   "display_name": "Python 3",
   "language": "python",
   "name": "python3"
  },
  "language_info": {
   "codemirror_mode": {
    "name": "ipython",
    "version": 3
   },
   "file_extension": ".py",
   "mimetype": "text/x-python",
   "name": "python",
   "nbconvert_exporter": "python",
   "pygments_lexer": "ipython3",
   "version": "3.6.13"
  }
 },
 "nbformat": 4,
 "nbformat_minor": 5
}

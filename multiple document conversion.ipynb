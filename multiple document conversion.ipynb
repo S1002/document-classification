{
 "cells": [
  {
   "cell_type": "code",
   "execution_count": 18,
   "metadata": {},
   "outputs": [
    {
     "name": "stdout",
     "output_type": "stream",
     "text": [
      "Document (1).docx.txt\n",
      "file_counts.xlsx\n",
      "invoice.pdf\n"
     ]
    }
   ],
   "source": [
    "#file=r'C:\\Users\\tanve\\Downloads\\DOCUMENT CLASSIFICATION\\bbc-fulltext\\source'\n",
    "destination=r'C:\\Users\\tanve\\Downloads\\DOCUMENT CLASSIFICATION\\bbc-fulltext\\destination'\n",
    "\n",
    "import os, sys\n",
    "\n",
    "# Open a file\n",
    "path = r'C:\\Users\\tanve\\Downloads\\DOCUMENT CLASSIFICATION\\bbc-fulltext\\source'\n",
    "dirs = os.listdir( path )\n",
    "\n",
    "# This would print all the files and directories\n",
    "for file in dirs:\n",
    "   print(file)\n",
    "os.chdir(path)"
   ]
  },
  {
   "cell_type": "code",
   "execution_count": 20,
   "metadata": {},
   "outputs": [
    {
     "name": "stdout",
     "output_type": "stream",
     "text": [
      "broucher.docx\n",
      "file_counts.xlsx\n",
      "invoice.pdf\n"
     ]
    }
   ],
   "source": [
    "import pandas as pd\n",
    "import fitz\n",
    "import pypandoc\n",
    "\n",
    "def listToString(s):  \n",
    "    str1 = \"\"  \n",
    "    for ele in s:  \n",
    "        str1 += ele   \n",
    "    return str1  \n",
    "# Checking for single extension (.txt) of file\n",
    "for file in os.listdir(path):\n",
    "    print(file)\n",
    "    \n",
    "    if file.endswith(\".xlsx\"):\n",
    "      # do something\n",
    "        df=pd.read_excel(file)\n",
    "        df.to_string(destination+'\\\\'+ file[:-5] +'.txt', index=False)\n",
    "    # Checking multiple extensions (.txt, .pdf, .mp3, ...)\n",
    "    \n",
    "    if file.endswith(\".pdf\"):\n",
    "      # do something\n",
    "        filename = os.path.splitext(file)\n",
    "        filename = filename[0]\n",
    "        pdfs = []\n",
    "\n",
    "        with fitz.open(file) as doc:\n",
    "            text = \"\"\n",
    "            for page in doc:\n",
    "                text += page.getText(text)\n",
    "                pdfs.append(text)\n",
    "            textfile = open(destination + '\\\\' + file[:-4] +'.txt', 'w',encoding=\"utf-8\")\n",
    "        pages = listToString(pdfs)\n",
    "        textfile.write(pages)\n",
    "        textfile.close()\n",
    "    \n",
    "    if file.endswith(\".docx\"):\n",
    "        output=pypandoc.convert_file(file,'plain',outputfile=destination + '\\\\' + file[:-5] +'.txt')\n",
    "        assert output==''\n",
    "        \n",
    "    if file.endswith(\".rtf\"):\n",
    "        output=pypandoc.convert_file(file,'plain',outputfile=destination + '\\\\' + file[:-5] +'.txt')\n",
    "        assert output==''"
   ]
  },
  {
   "cell_type": "code",
   "execution_count": null,
   "metadata": {},
   "outputs": [],
   "source": []
  }
 ],
 "metadata": {
  "kernelspec": {
   "display_name": "Python 3",
   "language": "python",
   "name": "python3"
  },
  "language_info": {
   "codemirror_mode": {
    "name": "ipython",
    "version": 3
   },
   "file_extension": ".py",
   "mimetype": "text/x-python",
   "name": "python",
   "nbconvert_exporter": "python",
   "pygments_lexer": "ipython3",
   "version": "3.6.13"
  }
 },
 "nbformat": 4,
 "nbformat_minor": 2
}

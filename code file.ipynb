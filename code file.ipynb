{
 "cells": [
  {
   "cell_type": "code",
   "execution_count": 17,
   "metadata": {},
   "outputs": [],
   "source": []
  },
  {
   "cell_type": "code",
   "execution_count": 18,
   "metadata": {},
   "outputs": [],
   "source": [
    "import os\n",
    "import sys\n",
    "import pandas as pd\n",
    "#import fitz\n",
    "#import pypandoc\n",
    "from pptx import Presentation\n",
    "import glob\n",
    "import docx2txt\n",
    "import fitz"
   ]
  },
  {
   "cell_type": "code",
   "execution_count": 19,
   "metadata": {},
   "outputs": [
    {
     "name": "stdout",
     "output_type": "stream",
     "text": [
      "a.pdf\n"
     ]
    }
   ],
   "source": [
    "# Open a file\n",
    "path = r'E:/subair/'\n",
    "dirs = os.listdir( path )\n",
    "\n",
    "# This would print all the files and directories\n",
    "for file in dirs:\n",
    "   print(file)\n",
    "os.chdir(path)"
   ]
  },
  {
   "cell_type": "code",
   "execution_count": null,
   "metadata": {},
   "outputs": [],
   "source": []
  },
  {
   "cell_type": "code",
   "execution_count": 28,
   "metadata": {},
   "outputs": [],
   "source": [
    "def docx_to_txt(path):\n",
    "    text = docx2txt.process(path)\n",
    "    return text\n",
    "\n",
    "def pdf_txt(path):\n",
    "    page=\"\"\n",
    "    doc = fitz.open(path)\n",
    "    n=doc.pageCount\n",
    "#     print (\"number of pages: %i\")\n",
    "    #print(doc.metadata)\n",
    "\n",
    "    for i in range(n):\n",
    "\n",
    "        page1 = doc.loadPage(i)\n",
    "        page1text = page1.getText()\n",
    "        page+=page1text\n",
    "    return page\n",
    "\n",
    "def pptx_txt(path):\n",
    "    page=\"\"\n",
    "    for eachfile in glob.glob(path):\n",
    "        \n",
    "        prs = Presentation(eachfile)\n",
    "#         print(eachfile)\n",
    "#         print(\"----------------------\")\n",
    "        for slide in prs.slides:\n",
    "            for shape in slide.shapes:\n",
    "                if hasattr(shape, \"text\"):\n",
    "#                     print(shape.text)\n",
    "                    page+=shape.text\n",
    "    return page\n",
    "#                     print(shape.text)"
   ]
  },
  {
   "cell_type": "code",
   "execution_count": 29,
   "metadata": {},
   "outputs": [
    {
     "name": "stdout",
     "output_type": "stream",
     "text": [
      "d.pdf\n"
     ]
    }
   ],
   "source": [
    "for file in os.listdir(path):\n",
    "    print(file)\n",
    "    \n",
    "    if file.endswith(\".xlsx\"):\n",
    "      # do something\n",
    "        df=pd.read_excel(file)\n",
    "        df.to_string(destination+'\\\\'+ file[:-5] +'.txt', index=False)\n",
    "    # Checking multiple extensions (.txt, .pdf, .mp3, ...)\n",
    "    \n",
    "    if file.endswith(\".pdf\"):\n",
    "        pdf1=pdf_txt(path+file)\n",
    "    \n",
    "    if file.endswith(\".docx\"):\n",
    "        dox=docx_to_txt(path+file)\n",
    "          \n",
    "    if file.endswith(\".rtf\"):\n",
    "        print(\"rtf\")\n",
    "       "
   ]
  },
  {
   "cell_type": "code",
   "execution_count": 30,
   "metadata": {},
   "outputs": [
    {
     "data": {
      "text/plain": [
       "'Lorem ipsum \\nLorem ipsum dolor sit amet, consectetur adipiscing \\nelit. Nunc ac faucibus odio. \\nVestibulum neque massa, scelerisque sit amet ligula eu, congue molestie mi. Praesent ut\\nvarius sem. Nullam at porttitor arcu, nec lacinia nisi. Ut ac dolor vitae odio interdum\\ncondimentum.  Vivamus  dapibus  sodales  ex,  vitae  malesuada  ipsum  cursus\\nconvallis. Maecenas sed egestas nulla, ac condimentum orci.  Mauris diam felis,\\nvulputate ac suscipit et, iaculis non est. Curabitur semper arcu ac ligula semper, nec luctus\\nnisl blandit. Integer lacinia ante ac libero lobortis imperdiet. Nullam mollis convallis ipsum,\\nac accumsan nunc vehicula vitae. Nulla eget justo in felis tristique fringilla. Morbi sit amet\\ntortor quis risus auctor condimentum. Morbi in ullamcorper elit. Nulla iaculis tellus sit amet\\nmauris tempus fringilla.\\nMaecenas mauris lectus, lobortis et purus mattis, blandit dictum tellus.\\n\\uf0b7\\nMaecenas non lorem quis tellus placerat varius. \\n\\uf0b7\\nNulla facilisi. \\n\\uf0b7\\nAenean congue fringilla justo ut aliquam. \\n\\uf0b7\\nMauris id ex erat. Nunc vulputate neque vitae justo facilisis, non condimentum ante\\nsagittis. \\n\\uf0b7\\nMorbi viverra semper lorem nec molestie. \\n\\uf0b7\\nMaecenas tincidunt est efcitur ligula euismod, sit amet ornare est vulputate.\\nRow 1\\nRow 2\\nRow 3\\nRow 4\\n0\\n2\\n4\\n6\\n8\\n10\\n12\\nColumn 1\\nColumn 2\\nColumn 3\\nIn non mauris justo. Duis vehicula mi vel mi pretium, a viverra erat efcitur. Cras aliquam\\nest ac eros varius, id iaculis dui auctor. Duis pretium neque ligula, et pulvinar mi placerat\\net. Nulla nec nunc sit amet nunc posuere vestibulum. Ut id neque eget tortor mattis\\ntristique. Donec ante est, blandit sit amet tristique vel, lacinia pulvinar arcu. Pellentesque\\nscelerisque fermentum erat, id posuere justo pulvinar ut. Cras id eros sed enim aliquam\\nlobortis. Sed lobortis nisl ut eros efcitur tincidunt. Cras justo mi, porttitor quis mattis vel,\\nultricies ut purus. Ut facilisis et lacus eu cursus.\\nIn eleifend velit vitae libero sollicitudin euismod. Fusce vitae vestibulum velit. Pellentesque\\nvulputate lectus quis pellentesque commodo. Aliquam erat volutpat. Vestibulum in egestas\\nvelit. Pellentesque fermentum nisl vitae fringilla venenatis. Etiam id mauris vitae orci\\nmaximus ultricies. \\nCras fringilla ipsum magna, in fringilla dui commodo \\na.\\nLorem ipsum\\nLorem ipsum\\nLorem ipsum\\n1\\nIn eleifend velit vitae libero sollicitudin euismod.\\nLorem\\n2\\nCras fringilla ipsum magna, in fringilla dui commodo\\na.\\nIpsum\\n3\\nAliquam erat volutpat. \\nLorem\\n4\\nFusce vitae vestibulum velit. \\nLorem\\n5\\nEtiam vehicula luctus fermentum.\\nIpsum\\nEtiam vehicula luctus fermentum. In vel metus congue, pulvinar lectus vel, fermentum dui.\\nMaecenas ante orci, egestas ut aliquet sit amet, sagittis a magna. Aliquam ante quam,\\npellentesque ut dignissim quis, laoreet eget est. Aliquam erat volutpat. Class aptent taciti\\nsociosqu ad litora torquent per conubia nostra, per inceptos himenaeos. Ut ullamcorper\\njusto sapien, in cursus libero viverra eget. Vivamus auctor imperdiet urna, at pulvinar leo\\nposuere laoreet. Suspendisse neque nisl, fringilla at iaculis scelerisque, ornare vel dolor. Ut\\net  pulvinar  nunc.  Pellentesque  fringilla  mollis  efcitur.  Nullam  venenatis  commodo\\nimperdiet. Morbi velit neque, semper quis lorem quis, efcitur dignissim ipsum. Ut ac lorem\\nsed turpis imperdiet eleifend sit amet id sapien.\\nLorem ipsum dolor sit amet, consectetur adipiscing \\nelit. \\nNunc ac faucibus odio. Vestibulum neque massa, scelerisque sit amet ligula eu, congue\\nmolestie mi. Praesent ut varius sem. Nullam at porttitor arcu, nec lacinia nisi. Ut ac dolor\\nvitae odio interdum condimentum. Vivamus dapibus sodales ex, vitae malesuada ipsum\\ncursus convallis. Maecenas sed egestas nulla, ac condimentum orci. Mauris diam felis,\\nvulputate ac suscipit et, iaculis non est. Curabitur semper arcu ac ligula semper, nec luctus\\nnisl blandit. Integer lacinia ante ac libero lobortis imperdiet. Nullam mollis convallis ipsum,\\nac accumsan nunc vehicula vitae. Nulla eget justo in felis tristique fringilla. Morbi sit amet\\ntortor quis risus auctor condimentum. Morbi in ullamcorper elit. Nulla iaculis tellus sit amet\\nmauris tempus fringilla.\\nMaecenas mauris lectus, lobortis et purus mattis, blandit \\ndictum tellus. \\nMaecenas non lorem quis tellus placerat varius. Nulla facilisi. Aenean congue fringilla justo\\nut aliquam. Mauris id ex erat. Nunc vulputate neque vitae justo facilisis, non condimentum\\nante sagittis. Morbi viverra semper lorem nec molestie. Maecenas tincidunt est efcitur\\nligula euismod, sit amet ornare est vulputate.\\nIn non mauris justo. Duis vehicula mi vel mi pretium, a viverra erat efcitur. Cras aliquam\\nest ac eros varius, id iaculis dui auctor. Duis pretium neque ligula, et pulvinar mi placerat\\net. Nulla nec nunc sit amet nunc posuere vestibulum. Ut id neque eget tortor mattis\\ntristique. Donec ante est, blandit sit amet tristique vel, lacinia pulvinar arcu. Pellentesque\\nscelerisque fermentum erat, id posuere justo pulvinar ut. Cras id eros sed enim aliquam\\nlobortis. Sed lobortis nisl ut eros efcitur tincidunt. Cras justo mi, porttitor quis mattis vel,\\nultricies ut purus. Ut facilisis et lacus eu cursus.\\nIn eleifend velit vitae libero sollicitudin euismod. \\nFusce vitae vestibulum velit. Pellentesque vulputate lectus quis pellentesque commodo.\\nAliquam  erat volutpat.  Vestibulum  in  egestas  velit. Pellentesque  fermentum nisl  vitae\\nfringilla  venenatis.  Etiam  id  mauris  vitae  orci  maximus  ultricies.  Cras  fringilla  ipsum\\nmagna, in fringilla dui commodo a.\\nEtiam vehicula luctus fermentum. In vel metus congue, pulvinar lectus vel, fermentum dui.\\nMaecenas ante orci, egestas ut aliquet sit amet, sagittis a magna. Aliquam ante quam,\\npellentesque ut dignissim quis, laoreet eget est. Aliquam erat volutpat. Class aptent taciti\\nsociosqu ad litora torquent per conubia nostra, per inceptos himenaeos. Ut ullamcorper\\njusto sapien, in cursus libero viverra eget. Vivamus auctor imperdiet urna, at pulvinar leo\\nposuere laoreet. Suspendisse neque nisl, fringilla at iaculis scelerisque, ornare vel dolor. Ut\\net  pulvinar  nunc.  Pellentesque  fringilla  mollis  efcitur.  Nullam  venenatis  commodo\\nimperdiet. Morbi velit neque, semper quis lorem quis, efcitur dignissim ipsum. Ut ac lorem\\nsed turpis imperdiet eleifend sit amet id sapien.\\n'"
      ]
     },
     "execution_count": 30,
     "metadata": {},
     "output_type": "execute_result"
    }
   ],
   "source": [
    "pdf1"
   ]
  },
  {
   "cell_type": "code",
   "execution_count": null,
   "metadata": {},
   "outputs": [],
   "source": [
    "\n"
   ]
  },
  {
   "cell_type": "code",
   "execution_count": 20,
   "metadata": {},
   "outputs": [
    {
     "name": "stdout",
     "output_type": "stream",
     "text": [
      "broucher.docx\n",
      "file_counts.xlsx\n",
      "invoice.pdf\n"
     ]
    }
   ],
   "source": [
    "\n",
    "\n",
    "def listToString(s):  \n",
    "    str1 = \"\"  \n",
    "    for ele in s:  \n",
    "        str1 += ele   \n",
    "    return str1  \n",
    "# Checking for single extension (.txt) of file\n",
    "for file in os.listdir(path):\n",
    "    print(file)\n",
    "    \n",
    "    if file.endswith(\".xlsx\"):\n",
    "      # do something\n",
    "        df=pd.read_excel(file)\n",
    "        df.to_string(destination+'\\\\'+ file[:-5] +'.txt', index=False)\n",
    "    # Checking multiple extensions (.txt, .pdf, .mp3, ...)\n",
    "    \n",
    "    if file.endswith(\".pdf\"):\n",
    "      # do something\n",
    "        filename = os.path.splitext(file)\n",
    "        filename = filename[0]\n",
    "        pdfs = []\n",
    "\n",
    "        with fitz.open(file) as doc:\n",
    "            text = \"\"\n",
    "            for page in doc:\n",
    "                text += page.getText(text)\n",
    "                pdfs.append(text)\n",
    "            textfile = open(destination + '\\\\' + file[:-4] +'.txt', 'w',encoding=\"utf-8\")\n",
    "        pages = listToString(pdfs)\n",
    "        textfile.write(pages)\n",
    "        textfile.close()\n",
    "    \n",
    "    if file.endswith(\".docx\"):\n",
    "        output=pypandoc.convert_file(file,'plain',outputfile=destination + '\\\\' + file[:-5] +'.txt')\n",
    "        assert output==''\n",
    "        \n",
    "    if file.endswith(\".rtf\"):\n",
    "        output=pypandoc.convert_file(file,'plain',outputfile=destination + '\\\\' + file[:-5] +'.txt')\n",
    "        assert output==''"
   ]
  }
 ],
 "metadata": {
  "kernelspec": {
   "display_name": "Python 3",
   "language": "python",
   "name": "python3"
  },
  "language_info": {
   "codemirror_mode": {
    "name": "ipython",
    "version": 3
   },
   "file_extension": ".py",
   "mimetype": "text/x-python",
   "name": "python",
   "nbconvert_exporter": "python",
   "pygments_lexer": "ipython3",
   "version": "3.6.13"
  }
 },
 "nbformat": 4,
 "nbformat_minor": 2
}

{
 "cells": [
  {
   "cell_type": "code",
   "execution_count": 15,
   "id": "46574863",
   "metadata": {},
   "outputs": [],
   "source": [
    "import pandas as pd\n",
    "import os\n",
    "import shutil\n",
    "import docx2txt\n",
    "import re\n",
    "import joblib\n",
    "import glob"
   ]
  },
  {
   "cell_type": "code",
   "execution_count": 2,
   "id": "f45e4f2f",
   "metadata": {},
   "outputs": [],
   "source": [
    "def docx_to_txt(path):\n",
    "#     f=os.listdir(path)\n",
    "#     n=os.listdir(path)\n",
    "#     name=[i[:-5] for i in n if i.endswith('.docx')]\n",
    "#     file=[i for i in f if i.endswith('docx')]\n",
    "#     for i,j in zip(file,name):\n",
    "        # Passing docx file to process function\n",
    "    text = docx2txt.process(path)\n",
    "    return text\n",
    "#     content =text\n",
    "#     print(text)\n",
    "#         with open(des+\"%s.txt\"+%j, \"w\",encoding=\"utf-8\") as text_file:\n",
    "#             print(text, file=text_file)"
   ]
  },
  {
   "cell_type": "code",
   "execution_count": null,
   "id": "d0285306",
   "metadata": {},
   "outputs": [],
   "source": [
    "def xls2txt(filepath)\n",
    "try:\n",
    "    for filename in glob.glob(filepath):\n",
    "        df=pd.read_excel(filename)\n",
    "        df.to_string(dest+(filename.split('.')[-2]).split('\\\\')[-1]+'.txt')\n",
    "except:\n",
    "    print('password_protected or non_readable')\n"
   ]
  },
  {
   "cell_type": "code",
   "execution_count": 3,
   "id": "1be4760b",
   "metadata": {},
   "outputs": [],
   "source": [
    "\n",
    "def data_cleansing(content):\n",
    "    # content =   docx_to_txt(filepath)\n",
    "    # # documents = []\n",
    "\n",
    "    from nltk.stem import WordNetLemmatizer\n",
    "    from nltk.corpus import stopwords\n",
    "    stop_words=set(stopwords.words('english'))\n",
    "\n",
    "    stemmer = WordNetLemmatizer()\n",
    "    \n",
    "\n",
    "    # for sen in range(0, len(content)):\n",
    "\n",
    "    #Remove \\n from text\n",
    "\n",
    "    document = re.sub(r'\\\\n', ' ', str(content))\n",
    "    # print(content)\n",
    "    # print(document)\n",
    "\n",
    "    # remove \\t from text\n",
    "    document = re.sub(r'\\\\t', ' ', document)\n",
    "\n",
    "    # Remove \\\\ from the text\n",
    "    document = re.sub(r'\\\\', ' ', document)\n",
    "\n",
    "    # Removing prefixed 'b'\n",
    "    document = re.sub(r'^b\\s+', '', document)\n",
    "\n",
    "\n",
    "    #Remove special character\n",
    "    document = re.sub(r\"[^a-zA-Z0-9]+\", ' ', document)\n",
    "\n",
    "    # print(document)\n",
    "\n",
    "\n",
    "    # Remove one char joins with 2 digit number\n",
    "    document= re.sub(r'[A-Za-z]{1}[0-9]{2}', ' ', document)\n",
    "    #Remove 1 digit number joins with 2 char\n",
    "    document = re.sub(r'[0-9]{1}[A-Za-z]{2}',' ',document)\n",
    "    #Remove one char in between two numbers\n",
    "    document = re.sub(r'[0-9]{1}[A-Za-z]{1}[0-9]{1}',' ',document)\n",
    "    #Remove one number in between two char\n",
    "    document = re.sub(r'[A-Za-z]{1}[0-9]{1}[A-Za-z]{1}',' ',document)\n",
    "\n",
    "    # Remove two char joins with 2 digit number\n",
    "    document= re.sub(r'[A-Za-z]{2}[0-9]{2}', ' ', document)\n",
    "\n",
    "    # Remove two char joins with 1 digit number\n",
    "    document= re.sub(r'[A-Za-z]{2}[0-9]{1}', ' ', document)\n",
    "    # print(document)\n",
    "\n",
    "\n",
    "    # Remove double digit number\n",
    "    document=re.sub('(\\\\b[0-9][0-9] \\\\b|\\\\b [0-9][0-9]\\\\b)', ' ', document).strip()\n",
    "    #Remove single character\n",
    "    document=re.sub('(\\\\b[A-Za-z] \\\\b|\\\\b [A-Za-z]\\\\b)', ' ', document).strip()\n",
    "    # Remove single digit number\n",
    "    document=re.sub('(\\\\b[0-9] \\\\b|\\\\b [0-9]\\\\b)', ' ', document).strip()\n",
    "    # print(document)\n",
    "\n",
    "    # Substituting multiple spaces with single space\n",
    "    document = re.sub(r' +', ' ', document)\n",
    "\n",
    "    # Converting to Lowercase\n",
    "    document = document.lower()\n",
    "\n",
    "    # Lemmatization\n",
    "    document = document.split()\n",
    "\n",
    "    document = [stemmer.lemmatize(word) for word in document]\n",
    "    document = ' '.join(document)\n",
    "\n",
    "    #     document = ' '.join(e for e in document if e.isalnum())\n",
    "    document = ' '.join([word for word in document.split(' ') if word not in stop_words])\n",
    "    document = ' '.join([w for w in document.split() if len(w)>1])\n",
    "    return document\n",
    "    \n",
    "#     documents.append(document)"
   ]
  },
  {
   "cell_type": "code",
   "execution_count": 6,
   "id": "d05c5625",
   "metadata": {},
   "outputs": [],
   "source": [
    "\n",
    "filepath = r'C:\\ML Training Docs\\dataset\\1630070.docx'\n",
    "content = ''"
   ]
  },
  {
   "cell_type": "code",
   "execution_count": 7,
   "id": "71f33c31",
   "metadata": {},
   "outputs": [
    {
     "name": "stdout",
     "output_type": "stream",
     "text": [
      "hi\n",
      "imperial health work floor hammersmith house hammersmith hospital du cane road london 0203313 3063 020 3313 3395 ann mcavinchey imperial nh uk imperial health work floor hammersmith house hammersmith hospital du cane road london 0203313 3063 020 3313 3395 ann mcavinchey imperial nh uk clinical director professor john harrison md frcp frcp edin ffom strictly private confidential date 2012 clinic date 2012 debbie smith hr business partner nh direct ref dict 92148 dear smith nicholas robinson dob thank referral dr robinson telephone conversation dr robinson today february 2012 telephone assessment wa regarding prolonged sickness absence well reasonable adjustment could put place return work agreement referral dr robinson confirmed ha absent work since middle november 2011 informed absence associated symptom related depression anxiety well work related stress dr robinson explained meanwhile ha obtained appropriate help continues regular review appointment see gp psychiatrist well counselling session unfortunately informed persists experience symptom related medical condition poor sleep irritability low mood difficulty concentrate furthermore mentioned referral letter dr robinson suffers long term medical condition type insulin dependent diabetes diverticulitis hypercholesterolemia hypertension take medication chronic medical condition dr robinson told work three day week nh direct senior management position role involves project work dr robinson pointed ha working nh direct since 1999 however indicated last year working condition changed caused significant level stress possibly exacerbation depression well anxiety meantime received report psychiatrist psychiatrist confirmed dr robinson diagnosis depression reference question raised referral letter moment dr robinson fit return work afraid cannot tell long likely dr robinson treatment effective would able return work therefore currently capable predict dr robinson able return work present remains symptomatic furthermore decision regarding redeployment currently possible dr robinson unable make decision present dr robinson suffers chronic medical condition likely condition covered equality act 2010 reasonable adjustment covered act however reasonable adjustment depend overall practicability managerial decision point time would suggest dr robinson declared fit return work psychiatrist gp would advise ha assessment occupational health department next assessment would able respond detail question raised referral letter advise phased return work programme introduction working environment gradual increase working hour duty period week discussed content letter dr robinson consent send report question meanwhile please hesitate contact sincerely dr gabriele schiffer occupational physician imperial health work cc nicholas robinson\n"
     ]
    }
   ],
   "source": [
    "filename, file_extension = os.path.splitext(filepath)\n",
    "# print(file_extension)\n",
    "if file_extension == '.docx':\n",
    "    print('hi')\n",
    "    content =   docx_to_txt(filepath)\n",
    "    content = data_cleansing(content)\n",
    "    print(content)"
   ]
  },
  {
   "cell_type": "code",
   "execution_count": 12,
   "id": "c467d0ff",
   "metadata": {},
   "outputs": [],
   "source": [
    "count_vectorizer_saved=joblib.load(open(r'C:\\ML Training Docs\\New folder\\pickle file\\count_vectorizer_cv.sav','rb'))\n",
    "test_data_features=count_vectorizer_saved.transform([content])"
   ]
  },
  {
   "cell_type": "code",
   "execution_count": 13,
   "id": "6d592789",
   "metadata": {},
   "outputs": [],
   "source": [
    "tfidf_saved=joblib.load(open(r'C:\\ML Training Docs\\New folder\\pickle file\\term_freq_inv_df.sav','rb'))\n",
    "test_data_features_tfidf=tfidf_saved.transform(test_data_features)"
   ]
  },
  {
   "cell_type": "code",
   "execution_count": 14,
   "id": "827363da",
   "metadata": {},
   "outputs": [
    {
     "data": {
      "text/plain": [
       "array([4])"
      ]
     },
     "execution_count": 14,
     "metadata": {},
     "output_type": "execute_result"
    }
   ],
   "source": [
    "lgbm_pickled_model=joblib.load(open(r'C:\\ML Training Docs\\New folder\\pickle file\\light_gbm.sav','rb'))\n",
    "lgbm_pickled_model.predict(test_data_features_tfidf)"
   ]
  },
  {
   "cell_type": "code",
   "execution_count": null,
   "id": "2e345f86",
   "metadata": {},
   "outputs": [],
   "source": [
    "import fitz\n",
    "def pdf_txt(path):\n",
    "    page=\"\"\n",
    "    doc = fitz.open(path)\n",
    "    n=doc.pageCount\n",
    "#     print (\"number of pages: %i\")\n",
    "    #print(doc.metadata)\n",
    "\n",
    "    for i in range(n):\n",
    "\n",
    "        page1 = doc.loadPage(i)\n",
    "        page1text = page1.getText()\n",
    "        page+=page1text\n",
    "    return page"
   ]
  },
  {
   "cell_type": "code",
   "execution_count": null,
   "id": "8401f183",
   "metadata": {},
   "outputs": [],
   "source": [
    "from pptx import Presentation\n",
    "import glob\n",
    "def pptx_txt(path):\n",
    "    page=\"\"\n",
    "    for eachfile in glob.glob(path):\n",
    "        \n",
    "        prs = Presentation(eachfile)\n",
    "#         print(eachfile)\n",
    "#         print(\"----------------------\")\n",
    "        for slide in prs.slides:\n",
    "            for shape in slide.shapes:\n",
    "                if hasattr(shape, \"text\"):\n",
    "#                     print(shape.text)\n",
    "                    page+=shape.text\n",
    "    return page\n",
    "#                     print(shape.text)"
   ]
  }
 ],
 "metadata": {
  "kernelspec": {
   "display_name": "Python 3",
   "language": "python",
   "name": "python3"
  },
  "language_info": {
   "codemirror_mode": {
    "name": "ipython",
    "version": 3
   },
   "file_extension": ".py",
   "mimetype": "text/x-python",
   "name": "python",
   "nbconvert_exporter": "python",
   "pygments_lexer": "ipython3",
   "version": "3.8.8"
  }
 },
 "nbformat": 4,
 "nbformat_minor": 5
}

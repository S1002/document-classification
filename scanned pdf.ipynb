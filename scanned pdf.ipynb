{
 "cells": [
  {
   "cell_type": "code",
   "execution_count": null,
   "id": "22b5841d",
   "metadata": {},
   "outputs": [],
   "source": [
    "@patch('shutil.move')\n",
    "    def test_file_by_filename(self, mock_move):\n",
    "        \"\"\"\n",
    "            Test filing of single pdf based on filename.\n",
    "        \"\"\"\n",
    "\n",
    "        # Mock the move function so we don't actually end up filing\n",
    "        p = P.PyPDFOCR()\n",
    "        cwd = os.getcwd()\n",
    "        filename = os.path.join(\"pdfs\", \"test_super_long_keyword.pdf\")\n",
    "        out_filename = filename.replace(\".pdf\", \"_ocr.pdf\")\n",
    "\n",
    "        if os.path.exists(out_filename):\n",
    "            os.remove(out_filename)\n",
    "\n",
    "        print(\"Current directory: %s\" % os.getcwd())\n",
    "        #opts = [filename, \"--config=test_pypdfocr_config.yaml\", \"-f\"]\n",
    "        opts = [filename, \"--config=test_pypdfocr_config_filename.yaml\", \"-f\", \"-n\"]\n",
    "        p.go(opts)\n",
    "\n",
    "        assert(os.path.exists(out_filename))\n",
    "        os.remove(out_filename)\n",
    "\n",
    "        calls = [call(out_filename, os.path.abspath(os.path.join('temp', 'target','recipe', os.path.basename(out_filename))))]\n",
    "        mock_move.assert_has_calls(calls)"
   ]
  },
  {
   "cell_type": "code",
   "execution_count": 6,
   "id": "f948a536",
   "metadata": {},
   "outputs": [],
   "source": [
    "def get_pdf_searchable_pages(fname):\n",
    "    # pip install pdfminer\n",
    "    from pdfminer.pdfpage import PDFPage\n",
    "    searchable_pages = []\n",
    "    non_searchable_pages = []\n",
    "    page_num = 0\n",
    "    with open(fname, 'rb') as infile:\n",
    "\n",
    "        for page in PDFPage.get_pages(infile):\n",
    "            page_num += 1\n",
    "            if 'Font' in page.resources.keys():\n",
    "                searchable_pages.append(page_num)\n",
    "            else:\n",
    "                non_searchable_pages.append(page_num)\n",
    "    if page_num > 0:\n",
    "        if len(searchable_pages) == 0:\n",
    "            print(f\"Document '{fname}' has {page_num} page(s). \"\n",
    "                  f\"Complete document is non-searchable\")\n",
    "        elif len(non_searchable_pages) == 0:\n",
    "            print(f\"Document '{fname}' has {page_num} page(s). \"\n",
    "                  f\"Complete document is searchable\")\n",
    "        else:\n",
    "            print(f\"searchable_pages : {searchable_pages}\")\n",
    "            print(f\"non_searchable_pages : {non_searchable_pages}\")\n",
    "    else:\n",
    "        print(f\"Not a valid document\")"
   ]
  },
  {
   "cell_type": "code",
   "execution_count": 14,
   "id": "739881bf",
   "metadata": {},
   "outputs": [
    {
     "name": "stdout",
     "output_type": "stream",
     "text": [
      "1.pdf\n",
      "Fisher BNY MM January 2019.pdf\n",
      "UBS - JUNE 2017 - FD (Florida).pdf\n",
      "UBS - MARCH 2017 FD (Florida).pdf\n",
      "UBS - MARCH 2017 YI (NEW YORK).pdf\n"
     ]
    }
   ],
   "source": [
    "import os\n",
    "source_directory = os.path.join('E:/PPT/pdf/')\n",
    "\n",
    "for filename in os.listdir(source_directory):\n",
    "    file, extension = os.path.splitext(filename)\n",
    "    if filename[-3:] == 'pdf':\n",
    "         print(filename)"
   ]
  },
  {
   "cell_type": "code",
   "execution_count": 23,
   "id": "3b305b91",
   "metadata": {},
   "outputs": [],
   "source": [
    "def get_pdf_searchable_pages(fname):\n",
    "    \n",
    "    # pip install pdfminer\n",
    "    from pdfminer.pdfpage import PDFPage\n",
    "    source_dir = 'E:/PPT/pdf/'\n",
    "    target_dir = 'E:/PPT/pdf/target/'\n",
    "    searchable_pages = []\n",
    "    non_searchable_pages = []\n",
    "    page_num = 0\n",
    "    with open(fname, 'rb') as infile:\n",
    "\n",
    "        for page in PDFPage.get_pages(infile):\n",
    "            page_num += 1\n",
    "            if 'Font' in page.resources.keys():\n",
    "                searchable_pages.append(page_num)\n",
    "            else:\n",
    "                non_searchable_pages.append(page_num)\n",
    "    if page_num > 0:\n",
    "        if len(searchable_pages) == 0:\n",
    "            print(f\"Document '{fname}' has {page_num} page(s). \"\n",
    "                  f\"Complete document is non-searchable\")\n",
    "        elif len(non_searchable_pages) == 0:\n",
    "            print(f\"Document '{fname}' has {page_num} page(s). \"\n",
    "                  f\"Complete document is searchable\")\n",
    "        else:\n",
    "#             print(f\"searchable_pages : {searchable_pages}\")\n",
    "            if non_searchable_pages != None:\n",
    "                \n",
    "                shutil.move(os.path.join(source_dir, file_name), target_dir)\n",
    "            \n",
    "                print(f\"non_searchable_pages : {non_searchable_pages}\")\n",
    "    else:\n",
    "        print(f\"Not a valid document\")"
   ]
  },
  {
   "cell_type": "code",
   "execution_count": null,
   "id": "1df54fab",
   "metadata": {},
   "outputs": [],
   "source": []
  },
  {
   "cell_type": "code",
   "execution_count": 25,
   "id": "fd1818f9",
   "metadata": {},
   "outputs": [
    {
     "name": "stdout",
     "output_type": "stream",
     "text": [
      "1.pdf\n",
      "Document 'E:/PPT/pdf/1.pdf' has 1 page(s). Complete document is non-searchable\n",
      "Fisher BNY MM January 2019.pdf\n",
      "Document 'E:/PPT/pdf/Fisher BNY MM January 2019.pdf' has 2 page(s). Complete document is searchable\n",
      "UBS - JUNE 2017 - FD (Florida).pdf\n",
      "non_searchable_pages : [109, 110, 111]\n",
      "UBS - MARCH 2017 FD (Florida).pdf\n",
      "non_searchable_pages : [123, 124, 125]\n",
      "UBS - MARCH 2017 YI (NEW YORK).pdf\n",
      "non_searchable_pages : [29, 30, 31, 174, 175, 176]\n"
     ]
    }
   ],
   "source": [
    "# fname=r'E:/PPT/pdf/'\n",
    "import os\n",
    "import shutil\n",
    "source_directory = os.path.join('E:/PPT/pdf/')\n",
    "\n",
    "for filename in os.listdir(source_directory):\n",
    "    file, extension = os.path.splitext(filename)\n",
    "    if filename[-3:] == 'pdf':\n",
    "        print(filename)\n",
    "        \n",
    "        file_name = source_directory+filename\n",
    "        get_pdf_searchable_pages(file_name)"
   ]
  },
  {
   "cell_type": "code",
   "execution_count": 36,
   "id": "3cf2f9de",
   "metadata": {},
   "outputs": [],
   "source": [
    "import fitz\n",
    "\n",
    "\n",
    "def get_text_percentage(file_name: str) -> float:\n",
    "    \"\"\"\n",
    "    Calculate the percentage of document that is covered by (searchable) text.\n",
    "\n",
    "    If the returned percentage of text is very low, the document is\n",
    "    most likely a scanned PDF\n",
    "    \"\"\"\n",
    "    total_page_area = 0.0\n",
    "    total_text_area = 0.0\n",
    "\n",
    "    doc = fitz.open(file_name)\n",
    "\n",
    "    for page_num, page in enumerate(doc):\n",
    "        total_page_area = total_page_area + abs(page.rect)\n",
    "        text_area = 0.0\n",
    "        for b in page.getTextBlocks():\n",
    "            r = fitz.Rect(b[:4])  # rectangle where block text appears\n",
    "            text_area = text_area + abs(r)\n",
    "        total_text_area = total_text_area + text_area\n",
    "    doc.close()\n",
    "    print( total_text_area / total_page_area)\n",
    "\n"
   ]
  },
  {
   "cell_type": "code",
   "execution_count": 41,
   "id": "0ab60997",
   "metadata": {},
   "outputs": [
    {
     "name": "stdout",
     "output_type": "stream",
     "text": [
      "0.21511301136626956\n"
     ]
    }
   ],
   "source": [
    "if __name__ == \"__main__\":\n",
    "    get_text_percentage(r\"E:\\PPT\\pdf\\3.pdf\")\n",
    "#     text_perc = get_text_percentage(r\"E:\\PPT\\pdf\\3.pdf\")\n",
    "#     print(text_perc)\n",
    "#     if text_perc < 0.01:\n",
    "#         print(\"fully scanned PDF - no relevant text\")\n",
    "#     else:\n",
    "#         print(\"not fully scanned PDF - text is present\")\n",
    "        \n",
    "        "
   ]
  },
  {
   "cell_type": "code",
   "execution_count": null,
   "id": "88f523b9",
   "metadata": {},
   "outputs": [],
   "source": []
  }
 ],
 "metadata": {
  "kernelspec": {
   "display_name": "Python 3",
   "language": "python",
   "name": "python3"
  },
  "language_info": {
   "codemirror_mode": {
    "name": "ipython",
    "version": 3
   },
   "file_extension": ".py",
   "mimetype": "text/x-python",
   "name": "python",
   "nbconvert_exporter": "python",
   "pygments_lexer": "ipython3",
   "version": "3.6.13"
  }
 },
 "nbformat": 4,
 "nbformat_minor": 5
}

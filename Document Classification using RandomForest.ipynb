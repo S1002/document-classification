{
 "cells": [
  {
   "cell_type": "code",
   "execution_count": 1,
   "id": "f737c0a5",
   "metadata": {},
   "outputs": [],
   "source": [
    "import nltk\n",
    "import re\n",
    "#nltk.download('stopwords')\n",
    "import pickle\n",
    "#from nltk.corpus import stopwords"
   ]
  },
  {
   "cell_type": "code",
   "execution_count": 2,
   "id": "89a87077",
   "metadata": {},
   "outputs": [],
   "source": [
    "def explode(df, lst_cols, fill_value='', preserve_index=False):\n",
    "    # make sure `lst_cols` is list-alike\n",
    "    if (lst_cols is not None\n",
    "        and len(lst_cols) > 0\n",
    "        and not isinstance(lst_cols, (list, tuple, np.ndarray, pd.Series))):\n",
    "        lst_cols = [lst_cols]\n",
    "    # all columns except `lst_cols`\n",
    "    idx_cols = df.columns.difference(lst_cols)\n",
    "    # calculate lengths of lists\n",
    "    lens = df[lst_cols[0]].str.len()\n",
    "    # preserve original index values    \n",
    "    idx = np.repeat(df.index.values, lens)\n",
    "    # create \"exploded\" DF\n",
    "    res = (pd.DataFrame({\n",
    "                col:np.repeat(df[col].values, lens)\n",
    "                for col in idx_cols},\n",
    "                index=idx)\n",
    "             .assign(**{col:np.concatenate(df.loc[lens>0, col].values)\n",
    "                            for col in lst_cols}))\n",
    "    # append those rows that have empty lists\n",
    "    if (lens == 0).any():\n",
    "        # at least one list in cells is empty\n",
    "        res = (res.append(df.loc[lens==0, idx_cols], sort=False)\n",
    "                  .fillna(fill_value))\n",
    "    # revert the original index order\n",
    "    res = res.sort_index()\n",
    "    # reset index if requested\n",
    "    if not preserve_index:        \n",
    "        res = res.reset_index(drop=True)\n",
    "    return res"
   ]
  },
  {
   "cell_type": "code",
   "execution_count": 3,
   "id": "8ca3aef1",
   "metadata": {},
   "outputs": [],
   "source": [
    "from sklearn.datasets import load_files\n",
    "my_data=load_files(r'\\\\lsv16171.live.mdu.local\\home$\\zz2841\\Documents\\ML Docs\\document classification')\n",
    "X,y=my_data.data,my_data.target"
   ]
  },
  {
   "cell_type": "code",
   "execution_count": 4,
   "id": "18eebda8",
   "metadata": {},
   "outputs": [
    {
     "data": {
      "text/html": [
       "<div>\n",
       "<style scoped>\n",
       "    .dataframe tbody tr th:only-of-type {\n",
       "        vertical-align: middle;\n",
       "    }\n",
       "\n",
       "    .dataframe tbody tr th {\n",
       "        vertical-align: top;\n",
       "    }\n",
       "\n",
       "    .dataframe thead th {\n",
       "        text-align: right;\n",
       "    }\n",
       "</style>\n",
       "<table border=\"1\" class=\"dataframe\">\n",
       "  <thead>\n",
       "    <tr style=\"text-align: right;\">\n",
       "      <th></th>\n",
       "      <th>filenames</th>\n",
       "      <th>target</th>\n",
       "    </tr>\n",
       "  </thead>\n",
       "  <tbody>\n",
       "    <tr>\n",
       "      <th>0</th>\n",
       "      <td>\\\\lsv16171.live.mdu.local\\home$\\zz2841\\Documen...</td>\n",
       "      <td>3rd Party Expert</td>\n",
       "    </tr>\n",
       "    <tr>\n",
       "      <th>0</th>\n",
       "      <td>\\\\lsv16171.live.mdu.local\\home$\\zz2841\\Documen...</td>\n",
       "      <td>MDU Invoices</td>\n",
       "    </tr>\n",
       "    <tr>\n",
       "      <th>0</th>\n",
       "      <td>\\\\lsv16171.live.mdu.local\\home$\\zz2841\\Documen...</td>\n",
       "      <td>Solicitor Contacts</td>\n",
       "    </tr>\n",
       "    <tr>\n",
       "      <th>0</th>\n",
       "      <td>\\\\lsv16171.live.mdu.local\\home$\\zz2841\\Documen...</td>\n",
       "      <td>MDU Invoices</td>\n",
       "    </tr>\n",
       "    <tr>\n",
       "      <th>0</th>\n",
       "      <td>\\\\lsv16171.live.mdu.local\\home$\\zz2841\\Documen...</td>\n",
       "      <td>3rd Party Expert</td>\n",
       "    </tr>\n",
       "    <tr>\n",
       "      <th>...</th>\n",
       "      <td>...</td>\n",
       "      <td>...</td>\n",
       "    </tr>\n",
       "    <tr>\n",
       "      <th>0</th>\n",
       "      <td>\\\\lsv16171.live.mdu.local\\home$\\zz2841\\Documen...</td>\n",
       "      <td>GMC</td>\n",
       "    </tr>\n",
       "    <tr>\n",
       "      <th>0</th>\n",
       "      <td>\\\\lsv16171.live.mdu.local\\home$\\zz2841\\Documen...</td>\n",
       "      <td>GMC</td>\n",
       "    </tr>\n",
       "    <tr>\n",
       "      <th>0</th>\n",
       "      <td>\\\\lsv16171.live.mdu.local\\home$\\zz2841\\Documen...</td>\n",
       "      <td>MDU Invoices</td>\n",
       "    </tr>\n",
       "    <tr>\n",
       "      <th>0</th>\n",
       "      <td>\\\\lsv16171.live.mdu.local\\home$\\zz2841\\Documen...</td>\n",
       "      <td>Solicitor Contacts</td>\n",
       "    </tr>\n",
       "    <tr>\n",
       "      <th>0</th>\n",
       "      <td>\\\\lsv16171.live.mdu.local\\home$\\zz2841\\Documen...</td>\n",
       "      <td>Solicitor Contacts</td>\n",
       "    </tr>\n",
       "  </tbody>\n",
       "</table>\n",
       "<p>2984 rows × 2 columns</p>\n",
       "</div>"
      ],
      "text/plain": [
       "                                            filenames              target\n",
       "0   \\\\lsv16171.live.mdu.local\\home$\\zz2841\\Documen...    3rd Party Expert\n",
       "0   \\\\lsv16171.live.mdu.local\\home$\\zz2841\\Documen...        MDU Invoices\n",
       "0   \\\\lsv16171.live.mdu.local\\home$\\zz2841\\Documen...  Solicitor Contacts\n",
       "0   \\\\lsv16171.live.mdu.local\\home$\\zz2841\\Documen...        MDU Invoices\n",
       "0   \\\\lsv16171.live.mdu.local\\home$\\zz2841\\Documen...    3rd Party Expert\n",
       "..                                                ...                 ...\n",
       "0   \\\\lsv16171.live.mdu.local\\home$\\zz2841\\Documen...                 GMC\n",
       "0   \\\\lsv16171.live.mdu.local\\home$\\zz2841\\Documen...                 GMC\n",
       "0   \\\\lsv16171.live.mdu.local\\home$\\zz2841\\Documen...        MDU Invoices\n",
       "0   \\\\lsv16171.live.mdu.local\\home$\\zz2841\\Documen...  Solicitor Contacts\n",
       "0   \\\\lsv16171.live.mdu.local\\home$\\zz2841\\Documen...  Solicitor Contacts\n",
       "\n",
       "[2984 rows x 2 columns]"
      ]
     },
     "execution_count": 4,
     "metadata": {},
     "output_type": "execute_result"
    }
   ],
   "source": [
    "import pandas as pd\n",
    "import numpy as np\n",
    "df=pd.DataFrame({'filenames':[my_data.filenames],'target':[my_data.target]})\n",
    "df=explode(df,['filenames','target'],fill_value='',preserve_index=True)\n",
    "df['target']=df['target'].replace([0,1,2,3,4],['3rd Party Expert','GMC','MDU Invoices','NHSLA','Solicitor Contacts'])\n",
    "df.to_csv(r'\\\\lsv16171.live.mdu.local\\home$\\zz2841\\Documents\\ML Docs\\document classification\\my_data.csv',index=False)\n",
    "df"
   ]
  },
  {
   "cell_type": "code",
   "execution_count": 5,
   "id": "0fd99041",
   "metadata": {},
   "outputs": [],
   "source": [
    "'''txt cleaning on test data'''\n",
    "import re\n",
    "documents=[]\n",
    "from nltk.stem import WordNetLemmatizer\n",
    "stemmer=WordNetLemmatizer()\n",
    "for sen in range(0,len(X)):\n",
    "    document=re.sub(r'\\W','',str(X[sen]))\n",
    "    document=re.sub(r'\\s+[a-zA-Z]\\s+','',document)\n",
    "    document=re.sub(r'\\s^[a-zA-Z]\\s+','',document)\n",
    "    document=re.sub(r'\\s+','',document,flags=re.I)\n",
    "    document=re.sub(r'^b\\s+','',document)\n",
    "    document=document.lower()\n",
    "    document=document.split()\n",
    "    # document=[stemmer.lemmatize(word) for word in document]\n",
    "    document=''.join(document)\n",
    "    documents.append(document)  "
   ]
  },
  {
   "cell_type": "code",
   "execution_count": 6,
   "id": "b2226142",
   "metadata": {
    "scrolled": true
   },
   "outputs": [],
   "source": [
    "from sklearn.feature_extraction.text import CountVectorizer\n",
    "vectorizer = CountVectorizer()\n",
    "X = vectorizer.fit_transform(X)"
   ]
  },
  {
   "cell_type": "code",
   "execution_count": 7,
   "id": "10580d5e",
   "metadata": {},
   "outputs": [],
   "source": [
    "from sklearn.feature_extraction.text import TfidfTransformer\n",
    "tfidfconvertor=TfidfTransformer()\n",
    "X=tfidfconvertor.fit_transform(X).toarray()"
   ]
  },
  {
   "cell_type": "code",
   "execution_count": 8,
   "id": "4f32c77c",
   "metadata": {},
   "outputs": [],
   "source": [
    "from sklearn.model_selection import train_test_split\n",
    "X_train,X_test,y_train,y_test=train_test_split(X,y,test_size=0.20,shuffle=True)"
   ]
  },
  {
   "cell_type": "code",
   "execution_count": 9,
   "id": "99f17e20",
   "metadata": {},
   "outputs": [
    {
     "name": "stdout",
     "output_type": "stream",
     "text": [
      "0.8224455611390284\n"
     ]
    }
   ],
   "source": [
    "'''training the data in RF model'''\n",
    "from sklearn.ensemble._forest import RandomForestClassifier\n",
    "from sklearn.metrics import classification_report, confusion_matrix, accuracy_score\n",
    "classifier=RandomForestClassifier()\n",
    "classifier.fit(X_train,y_train)\n",
    "y_pred=classifier.predict(X_test)\n",
    "print(accuracy_score(y_test,y_pred))"
   ]
  },
  {
   "cell_type": "code",
   "execution_count": 10,
   "id": "7de730bd",
   "metadata": {},
   "outputs": [
    {
     "name": "stdout",
     "output_type": "stream",
     "text": [
      "[[110   1   2   9   3]\n",
      " [ 19 115   0   9   1]\n",
      " [  1   1 116   0   4]\n",
      " [ 10   8   0  98   2]\n",
      " [ 10   8   3  15  52]]\n",
      "              precision    recall  f1-score   support\n",
      "\n",
      "           0       0.73      0.88      0.80       125\n",
      "           1       0.86      0.80      0.83       144\n",
      "           2       0.96      0.95      0.95       122\n",
      "           3       0.75      0.83      0.79       118\n",
      "           4       0.84      0.59      0.69        88\n",
      "\n",
      "    accuracy                           0.82       597\n",
      "   macro avg       0.83      0.81      0.81       597\n",
      "weighted avg       0.83      0.82      0.82       597\n",
      "\n",
      "0.8224455611390284\n"
     ]
    }
   ],
   "source": [
    "print(confusion_matrix(y_test,y_pred))\n",
    "print(classification_report(y_test,y_pred))\n",
    "print(accuracy_score(y_test,y_pred))"
   ]
  },
  {
   "cell_type": "code",
   "execution_count": null,
   "id": "10ad7ba4",
   "metadata": {},
   "outputs": [],
   "source": []
  }
 ],
 "metadata": {
  "kernelspec": {
   "display_name": "Python 3",
   "language": "python",
   "name": "python3"
  },
  "language_info": {
   "codemirror_mode": {
    "name": "ipython",
    "version": 3
   },
   "file_extension": ".py",
   "mimetype": "text/x-python",
   "name": "python",
   "nbconvert_exporter": "python",
   "pygments_lexer": "ipython3",
   "version": "3.8.8"
  }
 },
 "nbformat": 4,
 "nbformat_minor": 5
}

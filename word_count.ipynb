{
 "cells": [
  {
   "cell_type": "code",
   "execution_count": null,
   "metadata": {},
   "outputs": [],
   "source": [
    "l=[]\n",
    "i=0\n",
    "k=0\n",
    "source=r'C:\\Users\\zz2840\\Documents\\ML\\work\\test\\overall\\tif\\txt'\n",
    "for root,subdirs,files in os.walk(source):\n",
    "for file in files:\n",
    "path=os.path.join(root,file)\n",
    "#print(path)\n",
    "try:\n",
    "txt = open(path,\"r\",encoding='utf-8')\n",
    "#txt = open(path)\n",
    "data= txt.read()\n",
    "k=k+1\n",
    "except:\n",
    "txt = open(path)\n",
    "data= txt.read()\n",
    "#pass\n",
    "i=i+1\n",
    "print(i)\n",
    "l.append(data)"
   ]
  },
  {
   "cell_type": "code",
   "execution_count": null,
   "metadata": {},
   "outputs": [],
   "source": [
    "import nltk\n",
    "from nltk.corpus import stopwords\n",
    "stop_words = set(stopwords.words('english'))\n",
    "r=[]\n",
    "filtered_sentence=[]\n",
    "for item in l:\n",
    "for word in item.split():\n",
    "if word not in ['\\n', '\\t']:\n",
    "r.append(word)\n",
    "if word not in stop_words:\n",
    "filtered_sentence.append(word)\n",
    "total.append(word)"
   ]
  },
  {
   "cell_type": "code",
   "execution_count": null,
   "metadata": {},
   "outputs": [],
   "source": [
    "freq = nltk.FreqDist(total)\n",
    "\n",
    "df7=pd.DataFrame(nltk.FreqDist(total).items(), columns=['word', 'frequency'])\n",
    "df7.to_csv(r'C:\\Users\\zz2840\\Documents\\ML\\work\\test\\overall\\word_count_alter.csv',index= False)\n"
   ]
  },
  {
   "cell_type": "code",
   "execution_count": null,
   "metadata": {},
   "outputs": [],
   "source": [
    "import matplotlib.pyplot as plt\n",
    "from wordcloud import WordCloud, STOPWORDS\n",
    "wordcloud = WordCloud(width = 3000, height = 2000, random_state=1, background_color='black', colormap='Set2', collocations=False, stopwords = STOPWORDS).generate(str(total))\n",
    "wordcloud.to_file(\"wordcloud.png\")"
   ]
  },
  {
   "cell_type": "code",
   "execution_count": null,
   "metadata": {},
   "outputs": [],
   "source": []
  },
  {
   "cell_type": "code",
   "execution_count": null,
   "metadata": {},
   "outputs": [],
   "source": []
  },
  {
   "cell_type": "code",
   "execution_count": null,
   "metadata": {},
   "outputs": [],
   "source": []
  },
  {
   "cell_type": "code",
   "execution_count": null,
   "metadata": {},
   "outputs": [],
   "source": []
  },
  {
   "cell_type": "code",
   "execution_count": null,
   "metadata": {},
   "outputs": [],
   "source": []
  }
 ],
 "metadata": {
  "kernelspec": {
   "display_name": "Python 3",
   "language": "python",
   "name": "python3"
  },
  "language_info": {
   "codemirror_mode": {
    "name": "ipython",
    "version": 3
   },
   "file_extension": ".py",
   "mimetype": "text/x-python",
   "name": "python",
   "nbconvert_exporter": "python",
   "pygments_lexer": "ipython3",
   "version": "3.6.10"
  }
 },
 "nbformat": 4,
 "nbformat_minor": 4
}

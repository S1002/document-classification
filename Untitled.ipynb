{
 "cells": [
  {
   "cell_type": "code",
   "execution_count": null,
   "id": "8d02f075",
   "metadata": {},
   "outputs": [],
   "source": [
    "import os\n",
    "path='E:/Data science/AV/bbc txt classification/bbc'\n",
    "categories = []\n",
    "titles = []\n",
    "all_data = []\n",
    "for dirname, categoryname, filenames in os.walk(path):\n",
    "    # filename\n",
    "    for filename in filenames:\n",
    "        if filename == 'README.TXT':\n",
    "            filenames.remove(filename)\n",
    "        else:\n",
    "            # Absolute path\n",
    "            current_file = os.path.abspath(os.path.join(dirname, filename))\n",
    "            open_file = open(current_file, 'r', encoding=\"latin-1\")\n",
    "            # text_data\n",
    "            text_data = open_file.read().split('\\n')\n",
    "            text_data = list(filter(None, text_data))\n",
    "            #titles.append(text_data[0])\n",
    "            all_data.append((dirname, dirname.rsplit('\\\\')[-1], filename, text_data[0:]))\n",
    "            #data_df = f\"Directory: {dirname}, Category: {dirname.rsplit('/',1)[1]}, FileName: {filename}, Title: {text_data[0]}, Text: {text_data[1:]}\"\n",
    "            #print(data_df)\n",
    "df = pd.DataFrame(all_data, columns=['directory', 'category', 'fileName',  'text'])\n",
    "df['text'] = df.text.astype(str)\n",
    "print(df.head())"
   ]
  }
 ],
 "metadata": {
  "kernelspec": {
   "display_name": "Python 3",
   "language": "python",
   "name": "python3"
  },
  "language_info": {
   "codemirror_mode": {
    "name": "ipython",
    "version": 3
   },
   "file_extension": ".py",
   "mimetype": "text/x-python",
   "name": "python",
   "nbconvert_exporter": "python",
   "pygments_lexer": "ipython3",
   "version": "3.6.13"
  }
 },
 "nbformat": 4,
 "nbformat_minor": 5
}

{
 "cells": [
  {
   "cell_type": "code",
   "execution_count": null,
   "id": "ef0782c6",
   "metadata": {},
   "outputs": [],
   "source": [
    "#move all the file one common folder\n",
    "def move_file(source, destination):\n",
    "    category = os.listdir(source)\n",
    "    for k in category:\n",
    "        path = source+\"/%s/Advisory\"%k\n",
    "    #we shall store all the file names in this list\n",
    "        filelist = []\n",
    "\n",
    "        for root, dirs, files in os.walk(path):\n",
    "            for file in files:\n",
    "            #append the file name to the list\n",
    "                filelist.append(os.path.join(root,file))\n",
    "                os.replace(os.path.join(root,file), destination+file)\n",
    "    #print all the file names\n",
    "#         for name in filelist:\n",
    "#             print(name)"
   ]
  },
  {
   "cell_type": "code",
   "execution_count": null,
   "id": "757e8d3b",
   "metadata": {},
   "outputs": [],
   "source": [
    "source = r'C:/ML Training Docs/test/'\n",
    "dest = r'C:/ML Training Docs/all files1/'"
   ]
  },
  {
   "cell_type": "code",
   "execution_count": null,
   "id": "38b26e82",
   "metadata": {},
   "outputs": [],
   "source": [
    "move_file(source, dest)"
   ]
  },
  {
   "cell_type": "code",
   "execution_count": null,
   "id": "f33743a3",
   "metadata": {},
   "outputs": [],
   "source": [
    "import os\n",
    "import shutil\n",
    "from os import path \n",
    "from glob import glob\n",
    "# checking the extensions present\n",
    "def check_extns(root):\n",
    "     # Directory which contains multiple files with different extensions.\n",
    "    exts = set() \n",
    "    for file in glob(root + '/**/*.*', recursive=True): \n",
    "        exts.add(path.splitext(file)[-1])\n",
    "        exn=list(exts)\n",
    "    print('file types:',exts)"
   ]
  },
  {
   "cell_type": "code",
   "execution_count": null,
   "id": "c282d9a9",
   "metadata": {},
   "outputs": [],
   "source": [
    "root = r'C:\\ML Training Docs\\all files'\n",
    "check_extns(root)"
   ]
  },
  {
   "cell_type": "code",
   "execution_count": null,
   "id": "fa3f8865",
   "metadata": {},
   "outputs": [],
   "source": [
    "# moving files based on extensions\n",
    "def move_by_extension(path):\n",
    "    # Changing the folder location.\n",
    "#     path = r'C:\\ML Training Docs\\demo\\New folder'\n",
    "    os.chdir(path)\n",
    "    cwd =  os.getcwd()\n",
    "\n",
    "    # For listing files from the folder.\n",
    "\n",
    "    l = [f for f in os.listdir(cwd) if os.path.isfile(f)]\n",
    "    l2 = []\n",
    "\n",
    "    # Get the extension of file from list l.\n",
    "\n",
    "    for value in l:\n",
    "        s = value.split('.')[1]\n",
    "        l2.append(s)\n",
    "    print(l, l2)\n",
    "\n",
    "    # We remove duplicate values from\n",
    "    # list l2 and checks if directory\n",
    "    # exists otherwise we create new one\n",
    "\n",
    "    for extension in set(l2):\n",
    "        dirname = extension\n",
    "        if os.path.exists(cwd+'\\\\'+extension):                \n",
    "            pass\n",
    "        else:\n",
    "            os.makedirs(dirname)\n",
    "\n",
    "    # We use zip function and list l and\n",
    "    # l2 passed as arguments.\n",
    "    # If extension in file is same and\n",
    "    # file not exists then we move the file.\n",
    "\n",
    "    for files, extension in zip(l, l2):\n",
    "        if extension in files:\n",
    "            if os.path.exists(cwd+'\\\\'+extension+'\\\\'+files):\n",
    "                pass\n",
    "            else:\n",
    "                shutil.move(cwd+'\\\\'+files, cwd+'\\\\'+extension)\n",
    "            print(extension, files)\n",
    "        else :\n",
    "            print('error')\n"
   ]
  }
 ],
 "metadata": {
  "kernelspec": {
   "display_name": "Python 3",
   "language": "python",
   "name": "python3"
  },
  "language_info": {
   "codemirror_mode": {
    "name": "ipython",
    "version": 3
   },
   "file_extension": ".py",
   "mimetype": "text/x-python",
   "name": "python",
   "nbconvert_exporter": "python",
   "pygments_lexer": "ipython3",
   "version": "3.8.8"
  }
 },
 "nbformat": 4,
 "nbformat_minor": 5
}
